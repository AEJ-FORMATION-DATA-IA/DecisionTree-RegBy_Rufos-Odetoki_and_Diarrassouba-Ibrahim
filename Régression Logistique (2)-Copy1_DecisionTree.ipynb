{
 "cells": [
  {
   "cell_type": "code",
   "execution_count": 1,
   "id": "6ff17807",
   "metadata": {},
   "outputs": [],
   "source": [
    "import pandas as pd\n",
    "import numpy as np\n",
    "import os \n",
    "from sklearn.model_selection import train_test_split\n",
    "from sklearn.linear_model import LogisticRegression\n",
    "from sklearn.metrics import confusion_matrix, recall_score, accuracy_score, classification_report, precision_score\n",
    "from sklearn.preprocessing import LabelEncoder\n",
    "from sklearn.tree import DecisionTreeClassifier"
   ]
  },
  {
   "cell_type": "code",
   "execution_count": null,
   "id": "d9c572ed",
   "metadata": {},
   "outputs": [],
   "source": []
  },
  {
   "cell_type": "code",
   "execution_count": 2,
   "id": "a2dd9dd6",
   "metadata": {},
   "outputs": [],
   "source": [
    "#Chargement du DF\n",
    "data = pd.read_excel('Copie de Coeur.xlsx')"
   ]
  },
  {
   "cell_type": "code",
   "execution_count": 3,
   "id": "e4d4f3a3",
   "metadata": {},
   "outputs": [],
   "source": [
    "#Travailler avec une copie du data Frame pour éviter de le rechager en cas d'êrreur\n",
    "df = data.copy()"
   ]
  },
  {
   "cell_type": "code",
   "execution_count": 4,
   "id": "207cd3b3",
   "metadata": {},
   "outputs": [
    {
     "name": "stdout",
     "output_type": "stream",
     "text": [
      "<class 'pandas.core.frame.DataFrame'>\n",
      "RangeIndex: 918 entries, 0 to 917\n",
      "Data columns (total 12 columns):\n",
      " #   Column       Non-Null Count  Dtype  \n",
      "---  ------       --------------  -----  \n",
      " 0   AGE          918 non-null    int64  \n",
      " 1   SEXE         918 non-null    object \n",
      " 2   TDT          918 non-null    object \n",
      " 3   PAR          918 non-null    int64  \n",
      " 4   CHOLESTEROL  918 non-null    int64  \n",
      " 5   GAJ          918 non-null    int64  \n",
      " 6   ECG          918 non-null    object \n",
      " 7   FCMAX        918 non-null    int64  \n",
      " 8   ANGINE       918 non-null    object \n",
      " 9   DEPRESSION   918 non-null    float64\n",
      " 10  PENTE        918 non-null    object \n",
      " 11  CŒUR         918 non-null    int64  \n",
      "dtypes: float64(1), int64(6), object(5)\n",
      "memory usage: 86.2+ KB\n"
     ]
    }
   ],
   "source": [
    "#Afficher les informations relatives au DF\n",
    "df.info()"
   ]
  },
  {
   "cell_type": "code",
   "execution_count": 5,
   "id": "4976a4cf",
   "metadata": {},
   "outputs": [],
   "source": [
    "#Normalisation des variables quantitatives\n",
    "for col in df.drop('CŒUR', axis =1).select_dtypes(np.number).columns:\n",
    "    df[col] = df[col]/df[col].max()\n"
   ]
  },
  {
   "cell_type": "code",
   "execution_count": 6,
   "id": "f97ed680",
   "metadata": {},
   "outputs": [
    {
     "data": {
      "text/html": [
       "<div>\n",
       "<style scoped>\n",
       "    .dataframe tbody tr th:only-of-type {\n",
       "        vertical-align: middle;\n",
       "    }\n",
       "\n",
       "    .dataframe tbody tr th {\n",
       "        vertical-align: top;\n",
       "    }\n",
       "\n",
       "    .dataframe thead th {\n",
       "        text-align: right;\n",
       "    }\n",
       "</style>\n",
       "<table border=\"1\" class=\"dataframe\">\n",
       "  <thead>\n",
       "    <tr style=\"text-align: right;\">\n",
       "      <th></th>\n",
       "      <th>AGE</th>\n",
       "      <th>SEXE</th>\n",
       "      <th>TDT</th>\n",
       "      <th>PAR</th>\n",
       "      <th>CHOLESTEROL</th>\n",
       "      <th>GAJ</th>\n",
       "      <th>ECG</th>\n",
       "      <th>FCMAX</th>\n",
       "      <th>ANGINE</th>\n",
       "      <th>DEPRESSION</th>\n",
       "      <th>PENTE</th>\n",
       "      <th>CŒUR</th>\n",
       "    </tr>\n",
       "  </thead>\n",
       "  <tbody>\n",
       "    <tr>\n",
       "      <th>0</th>\n",
       "      <td>0.519481</td>\n",
       "      <td>homme</td>\n",
       "      <td>AA</td>\n",
       "      <td>0.70</td>\n",
       "      <td>0.479270</td>\n",
       "      <td>0.0</td>\n",
       "      <td>Normal</td>\n",
       "      <td>0.851485</td>\n",
       "      <td>Non</td>\n",
       "      <td>0.000000</td>\n",
       "      <td>Ascendant</td>\n",
       "      <td>0</td>\n",
       "    </tr>\n",
       "    <tr>\n",
       "      <th>1</th>\n",
       "      <td>0.636364</td>\n",
       "      <td>femme</td>\n",
       "      <td>DNA</td>\n",
       "      <td>0.80</td>\n",
       "      <td>0.298507</td>\n",
       "      <td>0.0</td>\n",
       "      <td>Normal</td>\n",
       "      <td>0.772277</td>\n",
       "      <td>Non</td>\n",
       "      <td>0.161290</td>\n",
       "      <td>Plat</td>\n",
       "      <td>1</td>\n",
       "    </tr>\n",
       "    <tr>\n",
       "      <th>2</th>\n",
       "      <td>0.480519</td>\n",
       "      <td>homme</td>\n",
       "      <td>AA</td>\n",
       "      <td>0.65</td>\n",
       "      <td>0.469320</td>\n",
       "      <td>0.0</td>\n",
       "      <td>ST</td>\n",
       "      <td>0.485149</td>\n",
       "      <td>Non</td>\n",
       "      <td>0.000000</td>\n",
       "      <td>Ascendant</td>\n",
       "      <td>0</td>\n",
       "    </tr>\n",
       "    <tr>\n",
       "      <th>3</th>\n",
       "      <td>0.623377</td>\n",
       "      <td>femme</td>\n",
       "      <td>ASY</td>\n",
       "      <td>0.69</td>\n",
       "      <td>0.354892</td>\n",
       "      <td>0.0</td>\n",
       "      <td>Normal</td>\n",
       "      <td>0.534653</td>\n",
       "      <td>Oui</td>\n",
       "      <td>0.241935</td>\n",
       "      <td>Plat</td>\n",
       "      <td>1</td>\n",
       "    </tr>\n",
       "    <tr>\n",
       "      <th>4</th>\n",
       "      <td>0.701299</td>\n",
       "      <td>homme</td>\n",
       "      <td>DNA</td>\n",
       "      <td>0.75</td>\n",
       "      <td>0.323383</td>\n",
       "      <td>0.0</td>\n",
       "      <td>Normal</td>\n",
       "      <td>0.603960</td>\n",
       "      <td>Non</td>\n",
       "      <td>0.000000</td>\n",
       "      <td>Ascendant</td>\n",
       "      <td>0</td>\n",
       "    </tr>\n",
       "  </tbody>\n",
       "</table>\n",
       "</div>"
      ],
      "text/plain": [
       "        AGE   SEXE  TDT   PAR  CHOLESTEROL  GAJ     ECG     FCMAX ANGINE  \\\n",
       "0  0.519481  homme   AA  0.70     0.479270  0.0  Normal  0.851485    Non   \n",
       "1  0.636364  femme  DNA  0.80     0.298507  0.0  Normal  0.772277    Non   \n",
       "2  0.480519  homme   AA  0.65     0.469320  0.0      ST  0.485149    Non   \n",
       "3  0.623377  femme  ASY  0.69     0.354892  0.0  Normal  0.534653    Oui   \n",
       "4  0.701299  homme  DNA  0.75     0.323383  0.0  Normal  0.603960    Non   \n",
       "\n",
       "   DEPRESSION       PENTE  CŒUR  \n",
       "0     0.000000  Ascendant     0  \n",
       "1     0.161290       Plat     1  \n",
       "2     0.000000  Ascendant     0  \n",
       "3     0.241935       Plat     1  \n",
       "4     0.000000  Ascendant     0  "
      ]
     },
     "execution_count": 6,
     "metadata": {},
     "output_type": "execute_result"
    }
   ],
   "source": [
    "#Vérification des résultats\n",
    "df.head()"
   ]
  },
  {
   "cell_type": "code",
   "execution_count": 7,
   "id": "e4e42ce5",
   "metadata": {},
   "outputs": [],
   "source": [
    "#Encodage des variables qualitatives\n",
    "for col in df.select_dtypes('object').columns:\n",
    "    df[col] = df[col].astype('category').cat.codes"
   ]
  },
  {
   "cell_type": "code",
   "execution_count": 8,
   "id": "85a85a02",
   "metadata": {},
   "outputs": [
    {
     "data": {
      "text/html": [
       "<div>\n",
       "<style scoped>\n",
       "    .dataframe tbody tr th:only-of-type {\n",
       "        vertical-align: middle;\n",
       "    }\n",
       "\n",
       "    .dataframe tbody tr th {\n",
       "        vertical-align: top;\n",
       "    }\n",
       "\n",
       "    .dataframe thead th {\n",
       "        text-align: right;\n",
       "    }\n",
       "</style>\n",
       "<table border=\"1\" class=\"dataframe\">\n",
       "  <thead>\n",
       "    <tr style=\"text-align: right;\">\n",
       "      <th></th>\n",
       "      <th>AGE</th>\n",
       "      <th>SEXE</th>\n",
       "      <th>TDT</th>\n",
       "      <th>PAR</th>\n",
       "      <th>CHOLESTEROL</th>\n",
       "      <th>GAJ</th>\n",
       "      <th>ECG</th>\n",
       "      <th>FCMAX</th>\n",
       "      <th>ANGINE</th>\n",
       "      <th>DEPRESSION</th>\n",
       "      <th>PENTE</th>\n",
       "      <th>CŒUR</th>\n",
       "    </tr>\n",
       "  </thead>\n",
       "  <tbody>\n",
       "    <tr>\n",
       "      <th>0</th>\n",
       "      <td>0.519481</td>\n",
       "      <td>1</td>\n",
       "      <td>0</td>\n",
       "      <td>0.70</td>\n",
       "      <td>0.479270</td>\n",
       "      <td>0.0</td>\n",
       "      <td>1</td>\n",
       "      <td>0.851485</td>\n",
       "      <td>0</td>\n",
       "      <td>0.000000</td>\n",
       "      <td>0</td>\n",
       "      <td>0</td>\n",
       "    </tr>\n",
       "    <tr>\n",
       "      <th>1</th>\n",
       "      <td>0.636364</td>\n",
       "      <td>0</td>\n",
       "      <td>3</td>\n",
       "      <td>0.80</td>\n",
       "      <td>0.298507</td>\n",
       "      <td>0.0</td>\n",
       "      <td>1</td>\n",
       "      <td>0.772277</td>\n",
       "      <td>0</td>\n",
       "      <td>0.161290</td>\n",
       "      <td>2</td>\n",
       "      <td>1</td>\n",
       "    </tr>\n",
       "    <tr>\n",
       "      <th>2</th>\n",
       "      <td>0.480519</td>\n",
       "      <td>1</td>\n",
       "      <td>0</td>\n",
       "      <td>0.65</td>\n",
       "      <td>0.469320</td>\n",
       "      <td>0.0</td>\n",
       "      <td>2</td>\n",
       "      <td>0.485149</td>\n",
       "      <td>0</td>\n",
       "      <td>0.000000</td>\n",
       "      <td>0</td>\n",
       "      <td>0</td>\n",
       "    </tr>\n",
       "    <tr>\n",
       "      <th>3</th>\n",
       "      <td>0.623377</td>\n",
       "      <td>0</td>\n",
       "      <td>1</td>\n",
       "      <td>0.69</td>\n",
       "      <td>0.354892</td>\n",
       "      <td>0.0</td>\n",
       "      <td>1</td>\n",
       "      <td>0.534653</td>\n",
       "      <td>1</td>\n",
       "      <td>0.241935</td>\n",
       "      <td>2</td>\n",
       "      <td>1</td>\n",
       "    </tr>\n",
       "    <tr>\n",
       "      <th>4</th>\n",
       "      <td>0.701299</td>\n",
       "      <td>1</td>\n",
       "      <td>3</td>\n",
       "      <td>0.75</td>\n",
       "      <td>0.323383</td>\n",
       "      <td>0.0</td>\n",
       "      <td>1</td>\n",
       "      <td>0.603960</td>\n",
       "      <td>0</td>\n",
       "      <td>0.000000</td>\n",
       "      <td>0</td>\n",
       "      <td>0</td>\n",
       "    </tr>\n",
       "  </tbody>\n",
       "</table>\n",
       "</div>"
      ],
      "text/plain": [
       "        AGE  SEXE  TDT   PAR  CHOLESTEROL  GAJ  ECG     FCMAX  ANGINE  \\\n",
       "0  0.519481     1    0  0.70     0.479270  0.0    1  0.851485       0   \n",
       "1  0.636364     0    3  0.80     0.298507  0.0    1  0.772277       0   \n",
       "2  0.480519     1    0  0.65     0.469320  0.0    2  0.485149       0   \n",
       "3  0.623377     0    1  0.69     0.354892  0.0    1  0.534653       1   \n",
       "4  0.701299     1    3  0.75     0.323383  0.0    1  0.603960       0   \n",
       "\n",
       "   DEPRESSION   PENTE  CŒUR  \n",
       "0     0.000000      0     0  \n",
       "1     0.161290      2     1  \n",
       "2     0.000000      0     0  \n",
       "3     0.241935      2     1  \n",
       "4     0.000000      0     0  "
      ]
     },
     "execution_count": 8,
     "metadata": {},
     "output_type": "execute_result"
    }
   ],
   "source": [
    "#Vérification des résultats\n",
    "df.head()"
   ]
  },
  {
   "cell_type": "code",
   "execution_count": 9,
   "id": "acd4ee77",
   "metadata": {},
   "outputs": [],
   "source": [
    "#Séparer la variable cible (coeur) et les variables explicatives\n",
    "y = df['CŒUR']\n",
    "x = df.drop('CŒUR', axis = 1)"
   ]
  },
  {
   "cell_type": "code",
   "execution_count": 10,
   "id": "d38c03fb",
   "metadata": {},
   "outputs": [],
   "source": [
    "#Subdivision du jeu de données en apprentissage et en test\n",
    "x_train, x_test, y_train, y_test = train_test_split(x,y,test_size =0.2, random_state =1)\n",
    "#train_set, test_set = train_test_split(df,test_size =0.2, random_state =1)"
   ]
  },
  {
   "cell_type": "code",
   "execution_count": 11,
   "id": "a61a2912",
   "metadata": {},
   "outputs": [
    {
     "name": "stdout",
     "output_type": "stream",
     "text": [
      "(734, 11) (184, 11) (734,) (184,)\n"
     ]
    }
   ],
   "source": [
    "#Vérifier le résultat\n",
    "print(x_train.shape, x_test.shape, y_train.shape, y_test.shape)"
   ]
  },
  {
   "cell_type": "code",
   "execution_count": 12,
   "id": "38ab6c74",
   "metadata": {},
   "outputs": [],
   "source": [
    "#Création d'un objet lr de la classe LogisticRegression\n",
    "lr = LogisticRegression(solver ='newton-cg', random_state =1)"
   ]
  },
  {
   "cell_type": "code",
   "execution_count": 13,
   "id": "5ad5e50a",
   "metadata": {},
   "outputs": [],
   "source": [
    "#Apprentissage du modèle\n",
    "model = lr.fit(x_train, y_train)\n",
    "#model = lr.fit(train_set.drop('CŒUR', axis = 1), train_set['CŒUR'])"
   ]
  },
  {
   "cell_type": "code",
   "execution_count": 14,
   "id": "c7c219c6",
   "metadata": {},
   "outputs": [
    {
     "data": {
      "text/plain": [
       "array([[0.39560595, 0.60439405],\n",
       "       [0.18843348, 0.81156652],\n",
       "       [0.04970935, 0.95029065],\n",
       "       [0.09007617, 0.90992383],\n",
       "       [0.28158313, 0.71841687]])"
      ]
     },
     "execution_count": 14,
     "metadata": {},
     "output_type": "execute_result"
    }
   ],
   "source": [
    "#Probabilité d'appartenance à l'une des classes\n",
    "predict_proba = model.predict_proba(x_test)\n",
    "predict_proba[:5,:]"
   ]
  },
  {
   "cell_type": "code",
   "execution_count": 15,
   "id": "0e4f9aca",
   "metadata": {},
   "outputs": [
    {
     "data": {
      "text/plain": [
       "array([1, 1, 1, 1, 1], dtype=int64)"
      ]
     },
     "execution_count": 15,
     "metadata": {},
     "output_type": "execute_result"
    }
   ],
   "source": [
    "#Application du modèle au données de test\n",
    "y_pred = model.predict(x_test)\n",
    "y_pred[:5]"
   ]
  },
  {
   "cell_type": "code",
   "execution_count": 16,
   "id": "a849be08",
   "metadata": {},
   "outputs": [
    {
     "data": {
      "text/plain": [
       "array([[ 66,   8],\n",
       "       [  6, 104]], dtype=int64)"
      ]
     },
     "execution_count": 16,
     "metadata": {},
     "output_type": "execute_result"
    }
   ],
   "source": [
    "#matrice de confusion\n",
    "mc = confusion_matrix(y_test, y_pred)\n",
    "mc"
   ]
  },
  {
   "cell_type": "code",
   "execution_count": 17,
   "id": "5f2a721e",
   "metadata": {},
   "outputs": [
    {
     "data": {
      "text/plain": [
       "0.9239130434782609"
      ]
     },
     "execution_count": 17,
     "metadata": {},
     "output_type": "execute_result"
    }
   ],
   "source": [
    "#Taux de bonnes prédictions\n",
    "accuracy = accuracy_score(y_test, y_pred)\n",
    "accuracy\n",
    "#Conclusion : le modèle produit 85.32 % de bonne prédiction."
   ]
  },
  {
   "cell_type": "code",
   "execution_count": 18,
   "id": "39678925",
   "metadata": {},
   "outputs": [
    {
     "data": {
      "text/plain": [
       "0.9454545454545454"
      ]
     },
     "execution_count": 18,
     "metadata": {},
     "output_type": "execute_result"
    }
   ],
   "source": [
    "#Sensibilité\n",
    "recall = recall_score(y_test, y_pred)\n",
    "recall\n",
    "#conclusion : lorsqu'un individu est malade, nous avons 84.11 % de chance que le modèle le prédise."
   ]
  },
  {
   "cell_type": "code",
   "execution_count": 19,
   "id": "62060487",
   "metadata": {},
   "outputs": [
    {
     "data": {
      "text/plain": [
       "0.9285714285714286"
      ]
     },
     "execution_count": 19,
     "metadata": {},
     "output_type": "execute_result"
    }
   ],
   "source": [
    "#Précision\n",
    "precision = precision_score(y_test, y_pred)\n",
    "precision\n",
    "#Conclusion : lorsque le modèle prédit qu'un individu est malade, nous avons 90 % de chace que cela soit vraie."
   ]
  },
  {
   "cell_type": "code",
   "execution_count": 20,
   "id": "e0630294",
   "metadata": {},
   "outputs": [
    {
     "name": "stdout",
     "output_type": "stream",
     "text": [
      "              precision    recall  f1-score   support\n",
      "\n",
      "           0       0.92      0.89      0.90        74\n",
      "           1       0.93      0.95      0.94       110\n",
      "\n",
      "    accuracy                           0.92       184\n",
      "   macro avg       0.92      0.92      0.92       184\n",
      "weighted avg       0.92      0.92      0.92       184\n",
      "\n"
     ]
    }
   ],
   "source": [
    "#plus de détails avec classification report\n",
    "cr = classification_report(y_test, y_pred)\n",
    "print(cr)"
   ]
  },
  {
   "cell_type": "code",
   "execution_count": 21,
   "id": "4803ba1d",
   "metadata": {},
   "outputs": [
    {
     "data": {
      "text/plain": [
       "1    0.553377\n",
       "0    0.446623\n",
       "Name: CŒUR, dtype: float64"
      ]
     },
     "execution_count": 21,
     "metadata": {},
     "output_type": "execute_result"
    }
   ],
   "source": [
    "#Modèle Trival\n",
    "df['CŒUR'].value_counts()/df.shape[0]\n",
    "#Conclusion : si nous nous basons sur le hasard pour faire nos prédiction, nous aurons 55.37 % de bonne prédiction."
   ]
  },
  {
   "cell_type": "code",
   "execution_count": 22,
   "id": "76511cb7",
   "metadata": {},
   "outputs": [
    {
     "data": {
      "text/plain": [
       "0.8433242506811989"
      ]
     },
     "execution_count": 22,
     "metadata": {},
     "output_type": "execute_result"
    }
   ],
   "source": [
    "#Score d'entrainement (le taux de bonne prédiction calculé sur la base des données d'entrainement)\n",
    "model.score(x_train, y_train)"
   ]
  },
  {
   "cell_type": "code",
   "execution_count": 23,
   "id": "272d4686",
   "metadata": {},
   "outputs": [
    {
     "data": {
      "text/plain": [
       "0.9239130434782609"
      ]
     },
     "execution_count": 23,
     "metadata": {},
     "output_type": "execute_result"
    }
   ],
   "source": [
    "#Score d'entrainement (le taux de bonne prédiction calculé sur la base des données de test)\n",
    "model.score(x_test, y_test)"
   ]
  },
  {
   "cell_type": "code",
   "execution_count": 24,
   "id": "90b21ee0",
   "metadata": {},
   "outputs": [
    {
     "data": {
      "text/html": [
       "<div>\n",
       "<style scoped>\n",
       "    .dataframe tbody tr th:only-of-type {\n",
       "        vertical-align: middle;\n",
       "    }\n",
       "\n",
       "    .dataframe tbody tr th {\n",
       "        vertical-align: top;\n",
       "    }\n",
       "\n",
       "    .dataframe thead th {\n",
       "        text-align: right;\n",
       "    }\n",
       "</style>\n",
       "<table border=\"1\" class=\"dataframe\">\n",
       "  <thead>\n",
       "    <tr style=\"text-align: right;\">\n",
       "      <th></th>\n",
       "      <th>AGE</th>\n",
       "      <th>SEXE</th>\n",
       "      <th>TDT</th>\n",
       "      <th>PAR</th>\n",
       "      <th>CHOLESTEROL</th>\n",
       "      <th>GAJ</th>\n",
       "      <th>ECG</th>\n",
       "      <th>FCMAX</th>\n",
       "      <th>ANGINE</th>\n",
       "      <th>DEPRESSION</th>\n",
       "      <th>PENTE</th>\n",
       "      <th>CŒUR</th>\n",
       "    </tr>\n",
       "  </thead>\n",
       "  <tbody>\n",
       "    <tr>\n",
       "      <th>0</th>\n",
       "      <td>0.519481</td>\n",
       "      <td>1</td>\n",
       "      <td>0</td>\n",
       "      <td>0.70</td>\n",
       "      <td>0.479270</td>\n",
       "      <td>0.0</td>\n",
       "      <td>1</td>\n",
       "      <td>0.851485</td>\n",
       "      <td>0</td>\n",
       "      <td>0.000000</td>\n",
       "      <td>0</td>\n",
       "      <td>0</td>\n",
       "    </tr>\n",
       "    <tr>\n",
       "      <th>1</th>\n",
       "      <td>0.636364</td>\n",
       "      <td>0</td>\n",
       "      <td>3</td>\n",
       "      <td>0.80</td>\n",
       "      <td>0.298507</td>\n",
       "      <td>0.0</td>\n",
       "      <td>1</td>\n",
       "      <td>0.772277</td>\n",
       "      <td>0</td>\n",
       "      <td>0.161290</td>\n",
       "      <td>2</td>\n",
       "      <td>1</td>\n",
       "    </tr>\n",
       "    <tr>\n",
       "      <th>2</th>\n",
       "      <td>0.480519</td>\n",
       "      <td>1</td>\n",
       "      <td>0</td>\n",
       "      <td>0.65</td>\n",
       "      <td>0.469320</td>\n",
       "      <td>0.0</td>\n",
       "      <td>2</td>\n",
       "      <td>0.485149</td>\n",
       "      <td>0</td>\n",
       "      <td>0.000000</td>\n",
       "      <td>0</td>\n",
       "      <td>0</td>\n",
       "    </tr>\n",
       "    <tr>\n",
       "      <th>3</th>\n",
       "      <td>0.623377</td>\n",
       "      <td>0</td>\n",
       "      <td>1</td>\n",
       "      <td>0.69</td>\n",
       "      <td>0.354892</td>\n",
       "      <td>0.0</td>\n",
       "      <td>1</td>\n",
       "      <td>0.534653</td>\n",
       "      <td>1</td>\n",
       "      <td>0.241935</td>\n",
       "      <td>2</td>\n",
       "      <td>1</td>\n",
       "    </tr>\n",
       "    <tr>\n",
       "      <th>4</th>\n",
       "      <td>0.701299</td>\n",
       "      <td>1</td>\n",
       "      <td>3</td>\n",
       "      <td>0.75</td>\n",
       "      <td>0.323383</td>\n",
       "      <td>0.0</td>\n",
       "      <td>1</td>\n",
       "      <td>0.603960</td>\n",
       "      <td>0</td>\n",
       "      <td>0.000000</td>\n",
       "      <td>0</td>\n",
       "      <td>0</td>\n",
       "    </tr>\n",
       "    <tr>\n",
       "      <th>...</th>\n",
       "      <td>...</td>\n",
       "      <td>...</td>\n",
       "      <td>...</td>\n",
       "      <td>...</td>\n",
       "      <td>...</td>\n",
       "      <td>...</td>\n",
       "      <td>...</td>\n",
       "      <td>...</td>\n",
       "      <td>...</td>\n",
       "      <td>...</td>\n",
       "      <td>...</td>\n",
       "      <td>...</td>\n",
       "    </tr>\n",
       "    <tr>\n",
       "      <th>913</th>\n",
       "      <td>0.584416</td>\n",
       "      <td>1</td>\n",
       "      <td>2</td>\n",
       "      <td>0.55</td>\n",
       "      <td>0.437811</td>\n",
       "      <td>0.0</td>\n",
       "      <td>1</td>\n",
       "      <td>0.653465</td>\n",
       "      <td>0</td>\n",
       "      <td>0.193548</td>\n",
       "      <td>2</td>\n",
       "      <td>1</td>\n",
       "    </tr>\n",
       "    <tr>\n",
       "      <th>914</th>\n",
       "      <td>0.883117</td>\n",
       "      <td>1</td>\n",
       "      <td>1</td>\n",
       "      <td>0.72</td>\n",
       "      <td>0.320066</td>\n",
       "      <td>1.0</td>\n",
       "      <td>1</td>\n",
       "      <td>0.698020</td>\n",
       "      <td>0</td>\n",
       "      <td>0.548387</td>\n",
       "      <td>2</td>\n",
       "      <td>1</td>\n",
       "    </tr>\n",
       "    <tr>\n",
       "      <th>915</th>\n",
       "      <td>0.740260</td>\n",
       "      <td>1</td>\n",
       "      <td>1</td>\n",
       "      <td>0.65</td>\n",
       "      <td>0.217247</td>\n",
       "      <td>0.0</td>\n",
       "      <td>1</td>\n",
       "      <td>0.569307</td>\n",
       "      <td>1</td>\n",
       "      <td>0.193548</td>\n",
       "      <td>2</td>\n",
       "      <td>1</td>\n",
       "    </tr>\n",
       "    <tr>\n",
       "      <th>916</th>\n",
       "      <td>0.740260</td>\n",
       "      <td>0</td>\n",
       "      <td>0</td>\n",
       "      <td>0.65</td>\n",
       "      <td>0.391376</td>\n",
       "      <td>0.0</td>\n",
       "      <td>0</td>\n",
       "      <td>0.861386</td>\n",
       "      <td>0</td>\n",
       "      <td>0.000000</td>\n",
       "      <td>2</td>\n",
       "      <td>1</td>\n",
       "    </tr>\n",
       "    <tr>\n",
       "      <th>917</th>\n",
       "      <td>0.493506</td>\n",
       "      <td>1</td>\n",
       "      <td>3</td>\n",
       "      <td>0.69</td>\n",
       "      <td>0.290216</td>\n",
       "      <td>0.0</td>\n",
       "      <td>1</td>\n",
       "      <td>0.856436</td>\n",
       "      <td>0</td>\n",
       "      <td>0.000000</td>\n",
       "      <td>0</td>\n",
       "      <td>0</td>\n",
       "    </tr>\n",
       "  </tbody>\n",
       "</table>\n",
       "<p>918 rows × 12 columns</p>\n",
       "</div>"
      ],
      "text/plain": [
       "          AGE  SEXE  TDT   PAR  CHOLESTEROL  GAJ  ECG     FCMAX  ANGINE  \\\n",
       "0    0.519481     1    0  0.70     0.479270  0.0    1  0.851485       0   \n",
       "1    0.636364     0    3  0.80     0.298507  0.0    1  0.772277       0   \n",
       "2    0.480519     1    0  0.65     0.469320  0.0    2  0.485149       0   \n",
       "3    0.623377     0    1  0.69     0.354892  0.0    1  0.534653       1   \n",
       "4    0.701299     1    3  0.75     0.323383  0.0    1  0.603960       0   \n",
       "..        ...   ...  ...   ...          ...  ...  ...       ...     ...   \n",
       "913  0.584416     1    2  0.55     0.437811  0.0    1  0.653465       0   \n",
       "914  0.883117     1    1  0.72     0.320066  1.0    1  0.698020       0   \n",
       "915  0.740260     1    1  0.65     0.217247  0.0    1  0.569307       1   \n",
       "916  0.740260     0    0  0.65     0.391376  0.0    0  0.861386       0   \n",
       "917  0.493506     1    3  0.69     0.290216  0.0    1  0.856436       0   \n",
       "\n",
       "     DEPRESSION   PENTE  CŒUR  \n",
       "0       0.000000      0     0  \n",
       "1       0.161290      2     1  \n",
       "2       0.000000      0     0  \n",
       "3       0.241935      2     1  \n",
       "4       0.000000      0     0  \n",
       "..           ...    ...   ...  \n",
       "913     0.193548      2     1  \n",
       "914     0.548387      2     1  \n",
       "915     0.193548      2     1  \n",
       "916     0.000000      2     1  \n",
       "917     0.000000      0     0  \n",
       "\n",
       "[918 rows x 12 columns]"
      ]
     },
     "execution_count": 24,
     "metadata": {},
     "output_type": "execute_result"
    }
   ],
   "source": [
    "df"
   ]
  },
  {
   "cell_type": "code",
   "execution_count": null,
   "id": "8ba3f7ce",
   "metadata": {},
   "outputs": [],
   "source": []
  },
  {
   "cell_type": "code",
   "execution_count": null,
   "id": "6dab32f1",
   "metadata": {},
   "outputs": [],
   "source": []
  },
  {
   "cell_type": "markdown",
   "id": "e7898c64",
   "metadata": {},
   "source": [
    "# DecisionTree"
   ]
  },
  {
   "cell_type": "code",
   "execution_count": 25,
   "id": "d5273182",
   "metadata": {},
   "outputs": [
    {
     "data": {
      "text/html": [
       "<div>\n",
       "<style scoped>\n",
       "    .dataframe tbody tr th:only-of-type {\n",
       "        vertical-align: middle;\n",
       "    }\n",
       "\n",
       "    .dataframe tbody tr th {\n",
       "        vertical-align: top;\n",
       "    }\n",
       "\n",
       "    .dataframe thead th {\n",
       "        text-align: right;\n",
       "    }\n",
       "</style>\n",
       "<table border=\"1\" class=\"dataframe\">\n",
       "  <thead>\n",
       "    <tr style=\"text-align: right;\">\n",
       "      <th></th>\n",
       "      <th>AGE</th>\n",
       "      <th>SEXE</th>\n",
       "      <th>TDT</th>\n",
       "      <th>PAR</th>\n",
       "      <th>CHOLESTEROL</th>\n",
       "      <th>GAJ</th>\n",
       "      <th>ECG</th>\n",
       "      <th>FCMAX</th>\n",
       "      <th>ANGINE</th>\n",
       "      <th>DEPRESSION</th>\n",
       "      <th>PENTE</th>\n",
       "      <th>CŒUR</th>\n",
       "    </tr>\n",
       "  </thead>\n",
       "  <tbody>\n",
       "    <tr>\n",
       "      <th>0</th>\n",
       "      <td>40</td>\n",
       "      <td>homme</td>\n",
       "      <td>AA</td>\n",
       "      <td>140</td>\n",
       "      <td>289</td>\n",
       "      <td>0</td>\n",
       "      <td>Normal</td>\n",
       "      <td>172</td>\n",
       "      <td>Non</td>\n",
       "      <td>0.0</td>\n",
       "      <td>Ascendant</td>\n",
       "      <td>0</td>\n",
       "    </tr>\n",
       "    <tr>\n",
       "      <th>1</th>\n",
       "      <td>49</td>\n",
       "      <td>femme</td>\n",
       "      <td>DNA</td>\n",
       "      <td>160</td>\n",
       "      <td>180</td>\n",
       "      <td>0</td>\n",
       "      <td>Normal</td>\n",
       "      <td>156</td>\n",
       "      <td>Non</td>\n",
       "      <td>1.0</td>\n",
       "      <td>Plat</td>\n",
       "      <td>1</td>\n",
       "    </tr>\n",
       "    <tr>\n",
       "      <th>2</th>\n",
       "      <td>37</td>\n",
       "      <td>homme</td>\n",
       "      <td>AA</td>\n",
       "      <td>130</td>\n",
       "      <td>283</td>\n",
       "      <td>0</td>\n",
       "      <td>ST</td>\n",
       "      <td>98</td>\n",
       "      <td>Non</td>\n",
       "      <td>0.0</td>\n",
       "      <td>Ascendant</td>\n",
       "      <td>0</td>\n",
       "    </tr>\n",
       "    <tr>\n",
       "      <th>3</th>\n",
       "      <td>48</td>\n",
       "      <td>femme</td>\n",
       "      <td>ASY</td>\n",
       "      <td>138</td>\n",
       "      <td>214</td>\n",
       "      <td>0</td>\n",
       "      <td>Normal</td>\n",
       "      <td>108</td>\n",
       "      <td>Oui</td>\n",
       "      <td>1.5</td>\n",
       "      <td>Plat</td>\n",
       "      <td>1</td>\n",
       "    </tr>\n",
       "    <tr>\n",
       "      <th>4</th>\n",
       "      <td>54</td>\n",
       "      <td>homme</td>\n",
       "      <td>DNA</td>\n",
       "      <td>150</td>\n",
       "      <td>195</td>\n",
       "      <td>0</td>\n",
       "      <td>Normal</td>\n",
       "      <td>122</td>\n",
       "      <td>Non</td>\n",
       "      <td>0.0</td>\n",
       "      <td>Ascendant</td>\n",
       "      <td>0</td>\n",
       "    </tr>\n",
       "    <tr>\n",
       "      <th>...</th>\n",
       "      <td>...</td>\n",
       "      <td>...</td>\n",
       "      <td>...</td>\n",
       "      <td>...</td>\n",
       "      <td>...</td>\n",
       "      <td>...</td>\n",
       "      <td>...</td>\n",
       "      <td>...</td>\n",
       "      <td>...</td>\n",
       "      <td>...</td>\n",
       "      <td>...</td>\n",
       "      <td>...</td>\n",
       "    </tr>\n",
       "    <tr>\n",
       "      <th>913</th>\n",
       "      <td>45</td>\n",
       "      <td>homme</td>\n",
       "      <td>AT</td>\n",
       "      <td>110</td>\n",
       "      <td>264</td>\n",
       "      <td>0</td>\n",
       "      <td>Normal</td>\n",
       "      <td>132</td>\n",
       "      <td>Non</td>\n",
       "      <td>1.2</td>\n",
       "      <td>Plat</td>\n",
       "      <td>1</td>\n",
       "    </tr>\n",
       "    <tr>\n",
       "      <th>914</th>\n",
       "      <td>68</td>\n",
       "      <td>homme</td>\n",
       "      <td>ASY</td>\n",
       "      <td>144</td>\n",
       "      <td>193</td>\n",
       "      <td>1</td>\n",
       "      <td>Normal</td>\n",
       "      <td>141</td>\n",
       "      <td>Non</td>\n",
       "      <td>3.4</td>\n",
       "      <td>Plat</td>\n",
       "      <td>1</td>\n",
       "    </tr>\n",
       "    <tr>\n",
       "      <th>915</th>\n",
       "      <td>57</td>\n",
       "      <td>homme</td>\n",
       "      <td>ASY</td>\n",
       "      <td>130</td>\n",
       "      <td>131</td>\n",
       "      <td>0</td>\n",
       "      <td>Normal</td>\n",
       "      <td>115</td>\n",
       "      <td>Oui</td>\n",
       "      <td>1.2</td>\n",
       "      <td>Plat</td>\n",
       "      <td>1</td>\n",
       "    </tr>\n",
       "    <tr>\n",
       "      <th>916</th>\n",
       "      <td>57</td>\n",
       "      <td>femme</td>\n",
       "      <td>AA</td>\n",
       "      <td>130</td>\n",
       "      <td>236</td>\n",
       "      <td>0</td>\n",
       "      <td>LVH</td>\n",
       "      <td>174</td>\n",
       "      <td>Non</td>\n",
       "      <td>0.0</td>\n",
       "      <td>Plat</td>\n",
       "      <td>1</td>\n",
       "    </tr>\n",
       "    <tr>\n",
       "      <th>917</th>\n",
       "      <td>38</td>\n",
       "      <td>homme</td>\n",
       "      <td>DNA</td>\n",
       "      <td>138</td>\n",
       "      <td>175</td>\n",
       "      <td>0</td>\n",
       "      <td>Normal</td>\n",
       "      <td>173</td>\n",
       "      <td>Non</td>\n",
       "      <td>0.0</td>\n",
       "      <td>Ascendant</td>\n",
       "      <td>0</td>\n",
       "    </tr>\n",
       "  </tbody>\n",
       "</table>\n",
       "<p>918 rows × 12 columns</p>\n",
       "</div>"
      ],
      "text/plain": [
       "     AGE   SEXE  TDT  PAR  CHOLESTEROL  GAJ     ECG  FCMAX ANGINE  \\\n",
       "0     40  homme   AA  140          289    0  Normal    172    Non   \n",
       "1     49  femme  DNA  160          180    0  Normal    156    Non   \n",
       "2     37  homme   AA  130          283    0      ST     98    Non   \n",
       "3     48  femme  ASY  138          214    0  Normal    108    Oui   \n",
       "4     54  homme  DNA  150          195    0  Normal    122    Non   \n",
       "..   ...    ...  ...  ...          ...  ...     ...    ...    ...   \n",
       "913   45  homme   AT  110          264    0  Normal    132    Non   \n",
       "914   68  homme  ASY  144          193    1  Normal    141    Non   \n",
       "915   57  homme  ASY  130          131    0  Normal    115    Oui   \n",
       "916   57  femme   AA  130          236    0     LVH    174    Non   \n",
       "917   38  homme  DNA  138          175    0  Normal    173    Non   \n",
       "\n",
       "     DEPRESSION       PENTE  CŒUR  \n",
       "0            0.0  Ascendant     0  \n",
       "1            1.0       Plat     1  \n",
       "2            0.0  Ascendant     0  \n",
       "3            1.5       Plat     1  \n",
       "4            0.0  Ascendant     0  \n",
       "..           ...        ...   ...  \n",
       "913          1.2       Plat     1  \n",
       "914          3.4       Plat     1  \n",
       "915          1.2       Plat     1  \n",
       "916          0.0       Plat     1  \n",
       "917          0.0  Ascendant     0  \n",
       "\n",
       "[918 rows x 12 columns]"
      ]
     },
     "execution_count": 25,
     "metadata": {},
     "output_type": "execute_result"
    }
   ],
   "source": [
    "data"
   ]
  },
  {
   "cell_type": "code",
   "execution_count": 26,
   "id": "0dcc0f81",
   "metadata": {},
   "outputs": [],
   "source": [
    "#faire une copie du dataFrame de base pour avoir un autre sur lequel je pourais appliquer mon arbre de décision "
   ]
  },
  {
   "cell_type": "code",
   "execution_count": 27,
   "id": "42e53d46",
   "metadata": {},
   "outputs": [],
   "source": [
    "df_AD = data.copy()"
   ]
  },
  {
   "cell_type": "code",
   "execution_count": 28,
   "id": "3c3362f0",
   "metadata": {},
   "outputs": [
    {
     "data": {
      "text/html": [
       "<div>\n",
       "<style scoped>\n",
       "    .dataframe tbody tr th:only-of-type {\n",
       "        vertical-align: middle;\n",
       "    }\n",
       "\n",
       "    .dataframe tbody tr th {\n",
       "        vertical-align: top;\n",
       "    }\n",
       "\n",
       "    .dataframe thead th {\n",
       "        text-align: right;\n",
       "    }\n",
       "</style>\n",
       "<table border=\"1\" class=\"dataframe\">\n",
       "  <thead>\n",
       "    <tr style=\"text-align: right;\">\n",
       "      <th></th>\n",
       "      <th>AGE</th>\n",
       "      <th>SEXE</th>\n",
       "      <th>TDT</th>\n",
       "      <th>PAR</th>\n",
       "      <th>CHOLESTEROL</th>\n",
       "      <th>GAJ</th>\n",
       "      <th>ECG</th>\n",
       "      <th>FCMAX</th>\n",
       "      <th>ANGINE</th>\n",
       "      <th>DEPRESSION</th>\n",
       "      <th>PENTE</th>\n",
       "      <th>CŒUR</th>\n",
       "    </tr>\n",
       "  </thead>\n",
       "  <tbody>\n",
       "    <tr>\n",
       "      <th>0</th>\n",
       "      <td>40</td>\n",
       "      <td>homme</td>\n",
       "      <td>AA</td>\n",
       "      <td>140</td>\n",
       "      <td>289</td>\n",
       "      <td>0</td>\n",
       "      <td>Normal</td>\n",
       "      <td>172</td>\n",
       "      <td>Non</td>\n",
       "      <td>0.0</td>\n",
       "      <td>Ascendant</td>\n",
       "      <td>0</td>\n",
       "    </tr>\n",
       "    <tr>\n",
       "      <th>1</th>\n",
       "      <td>49</td>\n",
       "      <td>femme</td>\n",
       "      <td>DNA</td>\n",
       "      <td>160</td>\n",
       "      <td>180</td>\n",
       "      <td>0</td>\n",
       "      <td>Normal</td>\n",
       "      <td>156</td>\n",
       "      <td>Non</td>\n",
       "      <td>1.0</td>\n",
       "      <td>Plat</td>\n",
       "      <td>1</td>\n",
       "    </tr>\n",
       "    <tr>\n",
       "      <th>2</th>\n",
       "      <td>37</td>\n",
       "      <td>homme</td>\n",
       "      <td>AA</td>\n",
       "      <td>130</td>\n",
       "      <td>283</td>\n",
       "      <td>0</td>\n",
       "      <td>ST</td>\n",
       "      <td>98</td>\n",
       "      <td>Non</td>\n",
       "      <td>0.0</td>\n",
       "      <td>Ascendant</td>\n",
       "      <td>0</td>\n",
       "    </tr>\n",
       "    <tr>\n",
       "      <th>3</th>\n",
       "      <td>48</td>\n",
       "      <td>femme</td>\n",
       "      <td>ASY</td>\n",
       "      <td>138</td>\n",
       "      <td>214</td>\n",
       "      <td>0</td>\n",
       "      <td>Normal</td>\n",
       "      <td>108</td>\n",
       "      <td>Oui</td>\n",
       "      <td>1.5</td>\n",
       "      <td>Plat</td>\n",
       "      <td>1</td>\n",
       "    </tr>\n",
       "    <tr>\n",
       "      <th>4</th>\n",
       "      <td>54</td>\n",
       "      <td>homme</td>\n",
       "      <td>DNA</td>\n",
       "      <td>150</td>\n",
       "      <td>195</td>\n",
       "      <td>0</td>\n",
       "      <td>Normal</td>\n",
       "      <td>122</td>\n",
       "      <td>Non</td>\n",
       "      <td>0.0</td>\n",
       "      <td>Ascendant</td>\n",
       "      <td>0</td>\n",
       "    </tr>\n",
       "    <tr>\n",
       "      <th>...</th>\n",
       "      <td>...</td>\n",
       "      <td>...</td>\n",
       "      <td>...</td>\n",
       "      <td>...</td>\n",
       "      <td>...</td>\n",
       "      <td>...</td>\n",
       "      <td>...</td>\n",
       "      <td>...</td>\n",
       "      <td>...</td>\n",
       "      <td>...</td>\n",
       "      <td>...</td>\n",
       "      <td>...</td>\n",
       "    </tr>\n",
       "    <tr>\n",
       "      <th>913</th>\n",
       "      <td>45</td>\n",
       "      <td>homme</td>\n",
       "      <td>AT</td>\n",
       "      <td>110</td>\n",
       "      <td>264</td>\n",
       "      <td>0</td>\n",
       "      <td>Normal</td>\n",
       "      <td>132</td>\n",
       "      <td>Non</td>\n",
       "      <td>1.2</td>\n",
       "      <td>Plat</td>\n",
       "      <td>1</td>\n",
       "    </tr>\n",
       "    <tr>\n",
       "      <th>914</th>\n",
       "      <td>68</td>\n",
       "      <td>homme</td>\n",
       "      <td>ASY</td>\n",
       "      <td>144</td>\n",
       "      <td>193</td>\n",
       "      <td>1</td>\n",
       "      <td>Normal</td>\n",
       "      <td>141</td>\n",
       "      <td>Non</td>\n",
       "      <td>3.4</td>\n",
       "      <td>Plat</td>\n",
       "      <td>1</td>\n",
       "    </tr>\n",
       "    <tr>\n",
       "      <th>915</th>\n",
       "      <td>57</td>\n",
       "      <td>homme</td>\n",
       "      <td>ASY</td>\n",
       "      <td>130</td>\n",
       "      <td>131</td>\n",
       "      <td>0</td>\n",
       "      <td>Normal</td>\n",
       "      <td>115</td>\n",
       "      <td>Oui</td>\n",
       "      <td>1.2</td>\n",
       "      <td>Plat</td>\n",
       "      <td>1</td>\n",
       "    </tr>\n",
       "    <tr>\n",
       "      <th>916</th>\n",
       "      <td>57</td>\n",
       "      <td>femme</td>\n",
       "      <td>AA</td>\n",
       "      <td>130</td>\n",
       "      <td>236</td>\n",
       "      <td>0</td>\n",
       "      <td>LVH</td>\n",
       "      <td>174</td>\n",
       "      <td>Non</td>\n",
       "      <td>0.0</td>\n",
       "      <td>Plat</td>\n",
       "      <td>1</td>\n",
       "    </tr>\n",
       "    <tr>\n",
       "      <th>917</th>\n",
       "      <td>38</td>\n",
       "      <td>homme</td>\n",
       "      <td>DNA</td>\n",
       "      <td>138</td>\n",
       "      <td>175</td>\n",
       "      <td>0</td>\n",
       "      <td>Normal</td>\n",
       "      <td>173</td>\n",
       "      <td>Non</td>\n",
       "      <td>0.0</td>\n",
       "      <td>Ascendant</td>\n",
       "      <td>0</td>\n",
       "    </tr>\n",
       "  </tbody>\n",
       "</table>\n",
       "<p>918 rows × 12 columns</p>\n",
       "</div>"
      ],
      "text/plain": [
       "     AGE   SEXE  TDT  PAR  CHOLESTEROL  GAJ     ECG  FCMAX ANGINE  \\\n",
       "0     40  homme   AA  140          289    0  Normal    172    Non   \n",
       "1     49  femme  DNA  160          180    0  Normal    156    Non   \n",
       "2     37  homme   AA  130          283    0      ST     98    Non   \n",
       "3     48  femme  ASY  138          214    0  Normal    108    Oui   \n",
       "4     54  homme  DNA  150          195    0  Normal    122    Non   \n",
       "..   ...    ...  ...  ...          ...  ...     ...    ...    ...   \n",
       "913   45  homme   AT  110          264    0  Normal    132    Non   \n",
       "914   68  homme  ASY  144          193    1  Normal    141    Non   \n",
       "915   57  homme  ASY  130          131    0  Normal    115    Oui   \n",
       "916   57  femme   AA  130          236    0     LVH    174    Non   \n",
       "917   38  homme  DNA  138          175    0  Normal    173    Non   \n",
       "\n",
       "     DEPRESSION       PENTE  CŒUR  \n",
       "0            0.0  Ascendant     0  \n",
       "1            1.0       Plat     1  \n",
       "2            0.0  Ascendant     0  \n",
       "3            1.5       Plat     1  \n",
       "4            0.0  Ascendant     0  \n",
       "..           ...        ...   ...  \n",
       "913          1.2       Plat     1  \n",
       "914          3.4       Plat     1  \n",
       "915          1.2       Plat     1  \n",
       "916          0.0       Plat     1  \n",
       "917          0.0  Ascendant     0  \n",
       "\n",
       "[918 rows x 12 columns]"
      ]
     },
     "execution_count": 28,
     "metadata": {},
     "output_type": "execute_result"
    }
   ],
   "source": [
    "df_AD"
   ]
  },
  {
   "cell_type": "code",
   "execution_count": 29,
   "id": "76f4b693",
   "metadata": {},
   "outputs": [],
   "source": [
    "#Normalisation des variables quantitatives\n",
    "for col in df_AD.drop('CŒUR', axis =1).select_dtypes(np.number).columns:\n",
    "    df_AD[col] = df_AD[col]/df_AD[col].max()\n"
   ]
  },
  {
   "cell_type": "code",
   "execution_count": 30,
   "id": "6b28c090",
   "metadata": {},
   "outputs": [
    {
     "data": {
      "text/html": [
       "<div>\n",
       "<style scoped>\n",
       "    .dataframe tbody tr th:only-of-type {\n",
       "        vertical-align: middle;\n",
       "    }\n",
       "\n",
       "    .dataframe tbody tr th {\n",
       "        vertical-align: top;\n",
       "    }\n",
       "\n",
       "    .dataframe thead th {\n",
       "        text-align: right;\n",
       "    }\n",
       "</style>\n",
       "<table border=\"1\" class=\"dataframe\">\n",
       "  <thead>\n",
       "    <tr style=\"text-align: right;\">\n",
       "      <th></th>\n",
       "      <th>AGE</th>\n",
       "      <th>SEXE</th>\n",
       "      <th>TDT</th>\n",
       "      <th>PAR</th>\n",
       "      <th>CHOLESTEROL</th>\n",
       "      <th>GAJ</th>\n",
       "      <th>ECG</th>\n",
       "      <th>FCMAX</th>\n",
       "      <th>ANGINE</th>\n",
       "      <th>DEPRESSION</th>\n",
       "      <th>PENTE</th>\n",
       "      <th>CŒUR</th>\n",
       "    </tr>\n",
       "  </thead>\n",
       "  <tbody>\n",
       "    <tr>\n",
       "      <th>0</th>\n",
       "      <td>0.519481</td>\n",
       "      <td>homme</td>\n",
       "      <td>AA</td>\n",
       "      <td>0.70</td>\n",
       "      <td>0.479270</td>\n",
       "      <td>0.0</td>\n",
       "      <td>Normal</td>\n",
       "      <td>0.851485</td>\n",
       "      <td>Non</td>\n",
       "      <td>0.000000</td>\n",
       "      <td>Ascendant</td>\n",
       "      <td>0</td>\n",
       "    </tr>\n",
       "    <tr>\n",
       "      <th>1</th>\n",
       "      <td>0.636364</td>\n",
       "      <td>femme</td>\n",
       "      <td>DNA</td>\n",
       "      <td>0.80</td>\n",
       "      <td>0.298507</td>\n",
       "      <td>0.0</td>\n",
       "      <td>Normal</td>\n",
       "      <td>0.772277</td>\n",
       "      <td>Non</td>\n",
       "      <td>0.161290</td>\n",
       "      <td>Plat</td>\n",
       "      <td>1</td>\n",
       "    </tr>\n",
       "    <tr>\n",
       "      <th>2</th>\n",
       "      <td>0.480519</td>\n",
       "      <td>homme</td>\n",
       "      <td>AA</td>\n",
       "      <td>0.65</td>\n",
       "      <td>0.469320</td>\n",
       "      <td>0.0</td>\n",
       "      <td>ST</td>\n",
       "      <td>0.485149</td>\n",
       "      <td>Non</td>\n",
       "      <td>0.000000</td>\n",
       "      <td>Ascendant</td>\n",
       "      <td>0</td>\n",
       "    </tr>\n",
       "    <tr>\n",
       "      <th>3</th>\n",
       "      <td>0.623377</td>\n",
       "      <td>femme</td>\n",
       "      <td>ASY</td>\n",
       "      <td>0.69</td>\n",
       "      <td>0.354892</td>\n",
       "      <td>0.0</td>\n",
       "      <td>Normal</td>\n",
       "      <td>0.534653</td>\n",
       "      <td>Oui</td>\n",
       "      <td>0.241935</td>\n",
       "      <td>Plat</td>\n",
       "      <td>1</td>\n",
       "    </tr>\n",
       "    <tr>\n",
       "      <th>4</th>\n",
       "      <td>0.701299</td>\n",
       "      <td>homme</td>\n",
       "      <td>DNA</td>\n",
       "      <td>0.75</td>\n",
       "      <td>0.323383</td>\n",
       "      <td>0.0</td>\n",
       "      <td>Normal</td>\n",
       "      <td>0.603960</td>\n",
       "      <td>Non</td>\n",
       "      <td>0.000000</td>\n",
       "      <td>Ascendant</td>\n",
       "      <td>0</td>\n",
       "    </tr>\n",
       "  </tbody>\n",
       "</table>\n",
       "</div>"
      ],
      "text/plain": [
       "        AGE   SEXE  TDT   PAR  CHOLESTEROL  GAJ     ECG     FCMAX ANGINE  \\\n",
       "0  0.519481  homme   AA  0.70     0.479270  0.0  Normal  0.851485    Non   \n",
       "1  0.636364  femme  DNA  0.80     0.298507  0.0  Normal  0.772277    Non   \n",
       "2  0.480519  homme   AA  0.65     0.469320  0.0      ST  0.485149    Non   \n",
       "3  0.623377  femme  ASY  0.69     0.354892  0.0  Normal  0.534653    Oui   \n",
       "4  0.701299  homme  DNA  0.75     0.323383  0.0  Normal  0.603960    Non   \n",
       "\n",
       "   DEPRESSION       PENTE  CŒUR  \n",
       "0     0.000000  Ascendant     0  \n",
       "1     0.161290       Plat     1  \n",
       "2     0.000000  Ascendant     0  \n",
       "3     0.241935       Plat     1  \n",
       "4     0.000000  Ascendant     0  "
      ]
     },
     "execution_count": 30,
     "metadata": {},
     "output_type": "execute_result"
    }
   ],
   "source": [
    "#Vérification des résultats\n",
    "df_AD.head()"
   ]
  },
  {
   "cell_type": "code",
   "execution_count": 31,
   "id": "c67e0b3b",
   "metadata": {},
   "outputs": [],
   "source": [
    "#Encodage des variables qualitatives dans une variable le\n",
    "\n",
    "le = LabelEncoder()"
   ]
  },
  {
   "cell_type": "code",
   "execution_count": 32,
   "id": "863fe831",
   "metadata": {},
   "outputs": [],
   "source": [
    "#creer une variable df_encoded qui va stocker notre dataframe encoder\n",
    "df_encoded=df.iloc[:,0:12]"
   ]
  },
  {
   "cell_type": "code",
   "execution_count": 33,
   "id": "b8d1e7b8",
   "metadata": {},
   "outputs": [
    {
     "data": {
      "text/plain": [
       "array([0, 2, 0, 2, 0, 0, 0, 0, 2, 0, 0, 2, 0, 2, 0, 2, 2, 0, 2, 2, 0, 2,\n",
       "       0, 2, 0, 0, 2, 0, 0, 0, 2, 0, 2, 2, 0, 0, 2, 0, 0, 2, 0, 2, 0, 0,\n",
       "       2, 2, 0, 0, 2, 2, 2, 2, 0, 0, 2, 0, 2, 2, 0, 2, 0, 0, 0, 2, 0, 0,\n",
       "       0, 0, 2, 0, 2, 0, 2, 0, 2, 0, 2, 0, 0, 2, 0, 0, 2, 0, 2, 2, 2, 2,\n",
       "       2, 2, 0, 0, 0, 2, 0, 2, 0, 0, 0, 0, 2, 0, 2, 2, 2, 0, 0, 0, 0, 0,\n",
       "       2, 2, 0, 0, 0, 2, 2, 2, 0, 2, 2, 0, 0, 2, 0, 0, 0, 0, 0, 2, 0, 2,\n",
       "       2, 2, 2, 2, 0, 0, 2, 2, 2, 2, 2, 0, 2, 0, 0, 0, 0, 2, 0, 0, 0, 0,\n",
       "       0, 2, 2, 0, 2, 0, 2, 2, 0, 0, 0, 2, 2, 0, 0, 0, 0, 0, 0, 0, 2, 2,\n",
       "       2, 0, 0, 0, 2, 0, 2, 2, 0, 2, 0, 2, 2, 2, 0, 0, 0, 0, 0, 0, 2, 0,\n",
       "       2, 2, 0, 0, 0, 0, 0, 0, 0, 2, 0, 2, 2, 2, 0, 0, 2, 0, 2, 0, 0, 0,\n",
       "       2, 2, 0, 0, 0, 2, 0, 2, 0, 0, 0, 0, 0, 0, 0, 2, 2, 2, 2, 2, 0, 2,\n",
       "       2, 0, 2, 0, 2, 1, 2, 2, 2, 2, 0, 0, 2, 0, 0, 0, 0, 0, 0, 0, 2, 2,\n",
       "       2, 0, 2, 0, 2, 2, 0, 0, 2, 0, 0, 0, 2, 2, 2, 0, 0, 2, 0, 0, 0, 0,\n",
       "       0, 0, 0, 0, 0, 0, 0, 2, 0, 0, 2, 0, 2, 0, 2, 0, 0, 1, 2, 0, 2, 1,\n",
       "       0, 1, 0, 0, 0, 0, 1, 0, 2, 0, 2, 0, 2, 2, 0, 1, 2, 1, 0, 0, 2, 1,\n",
       "       0, 0, 0, 0, 0, 2, 2, 0, 0, 1, 1, 1, 2, 2, 2, 2, 2, 2, 2, 2, 2, 0,\n",
       "       1, 2, 0, 2, 2, 2, 2, 2, 2, 2, 2, 2, 2, 2, 2, 0, 2, 2, 0, 2, 0, 2,\n",
       "       1, 0, 2, 2, 2, 0, 2, 2, 2, 2, 2, 2, 2, 2, 2, 2, 2, 2, 2, 2, 2, 2,\n",
       "       2, 2, 0, 2, 2, 2, 2, 2, 2, 2, 2, 2, 2, 2, 2, 2, 2, 2, 2, 2, 2, 0,\n",
       "       1, 0, 2, 0, 2, 2, 0, 2, 0, 2, 2, 2, 2, 0, 1, 2, 1, 0, 0, 2, 2, 0,\n",
       "       0, 2, 2, 2, 2, 2, 2, 0, 2, 2, 1, 2, 2, 0, 2, 0, 2, 2, 2, 0, 2, 2,\n",
       "       1, 0, 1, 0, 2, 0, 0, 2, 2, 2, 2, 2, 0, 2, 0, 1, 2, 2, 2, 1, 0, 1,\n",
       "       2, 2, 0, 2, 0, 2, 2, 2, 2, 2, 2, 2, 1, 1, 2, 2, 1, 2, 2, 0, 1, 2,\n",
       "       2, 0, 1, 2, 0, 2, 0, 2, 0, 2, 2, 2, 1, 0, 2, 1, 0, 2, 0, 0, 2, 0,\n",
       "       2, 2, 2, 2, 2, 2, 1, 2, 2, 1, 2, 0, 2, 1, 2, 1, 0, 0, 2, 1, 0, 0,\n",
       "       2, 0, 2, 2, 0, 2, 1, 2, 2, 1, 0, 0, 2, 2, 2, 2, 2, 2, 1, 2, 1, 2,\n",
       "       2, 2, 2, 2, 2, 2, 1, 2, 2, 0, 2, 0, 2, 2, 2, 2, 2, 2, 0, 0, 1, 2,\n",
       "       0, 2, 2, 0, 1, 2, 2, 2, 2, 1, 0, 0, 2, 2, 2, 2, 2, 0, 2, 0, 2, 2,\n",
       "       2, 0, 2, 0, 0, 2, 2, 2, 2, 2, 0, 0, 2, 0, 2, 2, 1, 2, 0, 2, 2, 2,\n",
       "       0, 0, 0, 2, 0, 2, 0, 2, 0, 0, 1, 2, 0, 0, 0, 0, 0, 0, 0, 0, 0, 2,\n",
       "       0, 0, 0, 2, 2, 2, 0, 0, 0, 2, 0, 2, 0, 2, 2, 0, 2, 0, 0, 1, 2, 0,\n",
       "       0, 2, 0, 2, 0, 0, 2, 0, 2, 2, 0, 2, 0, 2, 2, 0, 2, 2, 0, 0, 1, 0,\n",
       "       2, 0, 0, 2, 2, 0, 2, 2, 0, 0, 0, 2, 2, 0, 2, 2, 2, 2, 2, 0, 2, 2,\n",
       "       0, 0, 0, 0, 2, 0, 1, 1, 1, 2, 2, 2, 0, 1, 0, 2, 2, 0, 0, 2, 0, 0,\n",
       "       1, 0, 1, 0, 2, 0, 0, 2, 0, 2, 0, 0, 2, 0, 2, 0, 0, 0, 2, 0, 2, 0,\n",
       "       0, 1, 0, 2, 2, 2, 2, 0, 2, 0, 0, 0, 1, 2, 2, 2, 2, 2, 2, 0, 2, 2,\n",
       "       2, 2, 0, 1, 2, 0, 2, 0, 0, 2, 0, 2, 2, 0, 1, 0, 0, 0, 2, 2, 2, 0,\n",
       "       0, 0, 0, 2, 0, 2, 2, 0, 2, 2, 1, 2, 2, 2, 2, 0, 0, 0, 0, 2, 0, 2,\n",
       "       2, 0, 0, 0, 2, 2, 2, 0, 2, 2, 2, 0, 0, 2, 1, 0, 2, 0, 0, 2, 0, 2,\n",
       "       1, 0, 0, 0, 0, 2, 2, 2, 0, 0, 0, 0, 0, 2, 2, 0, 0, 0, 2, 2, 0, 1,\n",
       "       0, 0, 2, 2, 2, 0, 0, 2, 2, 0, 2, 2, 2, 0, 2, 2, 0, 2, 0, 0, 1, 2,\n",
       "       2, 0, 1, 2, 0, 1, 0, 2, 0, 2, 2, 2, 2, 2, 2, 0], dtype=int64)"
      ]
     },
     "execution_count": 33,
     "metadata": {},
     "output_type": "execute_result"
    }
   ],
   "source": [
    "#recodons par exemple le 'PENTE'\n",
    "le.fit_transform(df_encoded[\"PENTE\"])\n",
    "\n"
   ]
  },
  {
   "cell_type": "code",
   "execution_count": 34,
   "id": "72044685",
   "metadata": {},
   "outputs": [],
   "source": [
    "#Dans une fonction application cette modification à tout notre DataFrame\n",
    "for i in df_encoded:\n",
    "    df_encoded[i]=le.fit_transform(df_encoded[i])\n"
   ]
  },
  {
   "cell_type": "code",
   "execution_count": 35,
   "id": "3bca0c23",
   "metadata": {},
   "outputs": [
    {
     "data": {
      "text/html": [
       "<div>\n",
       "<style scoped>\n",
       "    .dataframe tbody tr th:only-of-type {\n",
       "        vertical-align: middle;\n",
       "    }\n",
       "\n",
       "    .dataframe tbody tr th {\n",
       "        vertical-align: top;\n",
       "    }\n",
       "\n",
       "    .dataframe thead th {\n",
       "        text-align: right;\n",
       "    }\n",
       "</style>\n",
       "<table border=\"1\" class=\"dataframe\">\n",
       "  <thead>\n",
       "    <tr style=\"text-align: right;\">\n",
       "      <th></th>\n",
       "      <th>AGE</th>\n",
       "      <th>SEXE</th>\n",
       "      <th>TDT</th>\n",
       "      <th>PAR</th>\n",
       "      <th>CHOLESTEROL</th>\n",
       "      <th>GAJ</th>\n",
       "      <th>ECG</th>\n",
       "      <th>FCMAX</th>\n",
       "      <th>ANGINE</th>\n",
       "      <th>DEPRESSION</th>\n",
       "      <th>PENTE</th>\n",
       "      <th>CŒUR</th>\n",
       "    </tr>\n",
       "  </thead>\n",
       "  <tbody>\n",
       "    <tr>\n",
       "      <th>0</th>\n",
       "      <td>12</td>\n",
       "      <td>1</td>\n",
       "      <td>0</td>\n",
       "      <td>41</td>\n",
       "      <td>147</td>\n",
       "      <td>0</td>\n",
       "      <td>1</td>\n",
       "      <td>98</td>\n",
       "      <td>0</td>\n",
       "      <td>10</td>\n",
       "      <td>0</td>\n",
       "      <td>0</td>\n",
       "    </tr>\n",
       "    <tr>\n",
       "      <th>1</th>\n",
       "      <td>21</td>\n",
       "      <td>0</td>\n",
       "      <td>3</td>\n",
       "      <td>55</td>\n",
       "      <td>40</td>\n",
       "      <td>0</td>\n",
       "      <td>1</td>\n",
       "      <td>82</td>\n",
       "      <td>0</td>\n",
       "      <td>20</td>\n",
       "      <td>2</td>\n",
       "      <td>1</td>\n",
       "    </tr>\n",
       "    <tr>\n",
       "      <th>2</th>\n",
       "      <td>9</td>\n",
       "      <td>1</td>\n",
       "      <td>0</td>\n",
       "      <td>31</td>\n",
       "      <td>141</td>\n",
       "      <td>0</td>\n",
       "      <td>2</td>\n",
       "      <td>25</td>\n",
       "      <td>0</td>\n",
       "      <td>10</td>\n",
       "      <td>0</td>\n",
       "      <td>0</td>\n",
       "    </tr>\n",
       "    <tr>\n",
       "      <th>3</th>\n",
       "      <td>20</td>\n",
       "      <td>0</td>\n",
       "      <td>1</td>\n",
       "      <td>39</td>\n",
       "      <td>72</td>\n",
       "      <td>0</td>\n",
       "      <td>1</td>\n",
       "      <td>34</td>\n",
       "      <td>1</td>\n",
       "      <td>25</td>\n",
       "      <td>2</td>\n",
       "      <td>1</td>\n",
       "    </tr>\n",
       "    <tr>\n",
       "      <th>4</th>\n",
       "      <td>26</td>\n",
       "      <td>1</td>\n",
       "      <td>3</td>\n",
       "      <td>49</td>\n",
       "      <td>53</td>\n",
       "      <td>0</td>\n",
       "      <td>1</td>\n",
       "      <td>48</td>\n",
       "      <td>0</td>\n",
       "      <td>10</td>\n",
       "      <td>0</td>\n",
       "      <td>0</td>\n",
       "    </tr>\n",
       "  </tbody>\n",
       "</table>\n",
       "</div>"
      ],
      "text/plain": [
       "   AGE  SEXE  TDT  PAR  CHOLESTEROL  GAJ  ECG  FCMAX  ANGINE  DEPRESSION   \\\n",
       "0   12     1    0   41          147    0    1     98       0           10   \n",
       "1   21     0    3   55           40    0    1     82       0           20   \n",
       "2    9     1    0   31          141    0    2     25       0           10   \n",
       "3   20     0    1   39           72    0    1     34       1           25   \n",
       "4   26     1    3   49           53    0    1     48       0           10   \n",
       "\n",
       "   PENTE  CŒUR  \n",
       "0      0     0  \n",
       "1      2     1  \n",
       "2      0     0  \n",
       "3      2     1  \n",
       "4      0     0  "
      ]
     },
     "execution_count": 35,
     "metadata": {},
     "output_type": "execute_result"
    }
   ],
   "source": [
    "df_encoded.head()"
   ]
  },
  {
   "cell_type": "code",
   "execution_count": 36,
   "id": "2638cc7c",
   "metadata": {},
   "outputs": [],
   "source": [
    "# jeu de fonctionnalités\n",
    "x=df_encoded.iloc[:,0:11]\n",
    "#jeu d'étiquettes\n",
    "y=df_encoded.iloc[:,11]"
   ]
  },
  {
   "cell_type": "code",
   "execution_count": 37,
   "id": "bfd1bf28",
   "metadata": {},
   "outputs": [],
   "source": [
    "#Subdivision du jeu de données en apprentissage et en test\n",
    "x_train, x_test, y_train, y_test = train_test_split(x,y,test_size =0.2, random_state =1)\n",
    "#train_set, test_set = train_test_split(df,test_size =0.2, random_state =1)"
   ]
  },
  {
   "cell_type": "code",
   "execution_count": 38,
   "id": "c0ba367a",
   "metadata": {},
   "outputs": [
    {
     "name": "stdout",
     "output_type": "stream",
     "text": [
      "(734, 11) (184, 11) (734,) (184,)\n"
     ]
    }
   ],
   "source": [
    "#Vérifier le résultat\n",
    "print(x_train.shape, x_test.shape, y_train.shape, y_test.shape)"
   ]
  },
  {
   "cell_type": "code",
   "execution_count": 39,
   "id": "a690e8e7",
   "metadata": {},
   "outputs": [],
   "source": [
    "#Création d'un objet model de la classe DecisionTreeClassifier\n",
    "model_AD=DecisionTreeClassifier(criterion='gini')\n",
    "#Gini est une formule mathematique de la fonction CART"
   ]
  },
  {
   "cell_type": "code",
   "execution_count": 40,
   "id": "fcfb8901",
   "metadata": {},
   "outputs": [
    {
     "data": {
      "text/plain": [
       "DecisionTreeClassifier()"
      ]
     },
     "execution_count": 40,
     "metadata": {},
     "output_type": "execute_result"
    }
   ],
   "source": [
    "#Apprentissage du modèle\n",
    "model_AD.fit(x_train,y_train)"
   ]
  },
  {
   "cell_type": "code",
   "execution_count": 41,
   "id": "166e195f",
   "metadata": {},
   "outputs": [
    {
     "data": {
      "text/plain": [
       "array([[0., 1.],\n",
       "       [1., 0.],\n",
       "       [0., 1.],\n",
       "       [0., 1.],\n",
       "       [1., 0.]])"
      ]
     },
     "execution_count": 41,
     "metadata": {},
     "output_type": "execute_result"
    }
   ],
   "source": [
    "#Probabilité d'appartenance à l'une des classes\n",
    "predict_proba = model_AD.predict_proba(x_test)\n",
    "predict_proba[:5,:]"
   ]
  },
  {
   "cell_type": "code",
   "execution_count": 42,
   "id": "f6305404",
   "metadata": {},
   "outputs": [
    {
     "data": {
      "text/plain": [
       "array([1, 0, 1, 1, 0], dtype=int64)"
      ]
     },
     "execution_count": 42,
     "metadata": {},
     "output_type": "execute_result"
    }
   ],
   "source": [
    "#Application du modèle au données de test\n",
    "y_pred = model_AD.predict(x_test)\n",
    "y_pred[:5]"
   ]
  },
  {
   "cell_type": "code",
   "execution_count": 43,
   "id": "e32df573",
   "metadata": {},
   "outputs": [
    {
     "data": {
      "text/plain": [
       "array([[63, 11],\n",
       "       [23, 87]], dtype=int64)"
      ]
     },
     "execution_count": 43,
     "metadata": {},
     "output_type": "execute_result"
    }
   ],
   "source": [
    "#matrice de confusion\n",
    "mc = confusion_matrix(y_test, y_pred)\n",
    "mc"
   ]
  },
  {
   "cell_type": "code",
   "execution_count": 44,
   "id": "0d4d9c7b",
   "metadata": {},
   "outputs": [
    {
     "data": {
      "text/plain": [
       "0.8152173913043478"
      ]
     },
     "execution_count": 44,
     "metadata": {},
     "output_type": "execute_result"
    }
   ],
   "source": [
    "#Taux de bonnes prédictions\n",
    "accuracy = accuracy_score(y_test, y_pred)\n",
    "accuracy\n",
    "#Conclusion : le modèle produit 81 % de bonne prédiction."
   ]
  },
  {
   "cell_type": "code",
   "execution_count": 45,
   "id": "3cf14934",
   "metadata": {},
   "outputs": [
    {
     "data": {
      "text/plain": [
       "0.7909090909090909"
      ]
     },
     "execution_count": 45,
     "metadata": {},
     "output_type": "execute_result"
    }
   ],
   "source": [
    "#Sensibilité\n",
    "recall_AD = recall_score(y_test, y_pred)\n",
    "recall_AD\n",
    "#conclusion : lorsqu'un individu est malade, nous avons 79 % de chance que le modèle le prédise."
   ]
  },
  {
   "cell_type": "code",
   "execution_count": 46,
   "id": "ef208df6",
   "metadata": {},
   "outputs": [
    {
     "data": {
      "text/plain": [
       "0.8877551020408163"
      ]
     },
     "execution_count": 46,
     "metadata": {},
     "output_type": "execute_result"
    }
   ],
   "source": [
    "#Précision\n",
    "precision_AD = precision_score(y_test, y_pred)\n",
    "precision_AD\n",
    "#Conclusion : lorsque le modèle prédit qu'un individu est malade, nous avons 87,9 % de chace que cela soit vraie."
   ]
  },
  {
   "cell_type": "code",
   "execution_count": 47,
   "id": "c6550002",
   "metadata": {},
   "outputs": [
    {
     "name": "stdout",
     "output_type": "stream",
     "text": [
      "              precision    recall  f1-score   support\n",
      "\n",
      "           0       0.73      0.85      0.79        74\n",
      "           1       0.89      0.79      0.84       110\n",
      "\n",
      "    accuracy                           0.82       184\n",
      "   macro avg       0.81      0.82      0.81       184\n",
      "weighted avg       0.83      0.82      0.82       184\n",
      "\n"
     ]
    }
   ],
   "source": [
    "#plus de détails avec classification report\n",
    "cr_AD = classification_report(y_test, y_pred)\n",
    "print(cr_AD)"
   ]
  },
  {
   "cell_type": "code",
   "execution_count": 48,
   "id": "037e6298",
   "metadata": {},
   "outputs": [
    {
     "data": {
      "text/plain": [
       "1.0"
      ]
     },
     "execution_count": 48,
     "metadata": {},
     "output_type": "execute_result"
    }
   ],
   "source": [
    "#Score d'entrainement (le taux de bonne prédiction calculé sur la base des données d'entrainement)\n",
    "model_AD.score(x_train, y_train)"
   ]
  },
  {
   "cell_type": "code",
   "execution_count": 49,
   "id": "b406c0e3",
   "metadata": {},
   "outputs": [
    {
     "data": {
      "text/plain": [
       "0.8152173913043478"
      ]
     },
     "execution_count": 49,
     "metadata": {},
     "output_type": "execute_result"
    }
   ],
   "source": [
    "#Score d'entrainement (le taux de bonne prédiction calculé sur la base des données de test)\n",
    "model_AD.score(x_test, y_test)"
   ]
  },
  {
   "cell_type": "markdown",
   "id": "9db6ec8b",
   "metadata": {},
   "source": [
    "# Comparaison des scores entre la Régression Linéaire et L'Arbre de Décision"
   ]
  },
  {
   "cell_type": "code",
   "execution_count": 50,
   "id": "cfd2a3fa",
   "metadata": {},
   "outputs": [
    {
     "name": "stdout",
     "output_type": "stream",
     "text": [
      "Sur l'entrainement, le resultat de la Régression Logistique est inférieure à celui de l'Arbre de Décision\n"
     ]
    }
   ],
   "source": [
    "#Comparaison au niveau des  Score d'entrainement (le taux de bonne prédiction calculé sur la base des données d'entrainement)\n",
    "if model.score(x_train, y_train) > model_AD.score(x_train, y_train):\n",
    "    print(\"Sur l'entrainement, le resultat de la Régression Logistique est supérieure à celui de l'Arbre de Décision\")\n",
    "else:\n",
    "    print(\"Sur l'entrainement, le resultat de la Régression Logistique est inférieure à celui de l'Arbre de Décision\")"
   ]
  },
  {
   "cell_type": "code",
   "execution_count": 51,
   "id": "06757cd6",
   "metadata": {},
   "outputs": [
    {
     "name": "stdout",
     "output_type": "stream",
     "text": [
      "Sur l'entrainement,le resultat de la Régression Logistique est inférieure à celui de l'Arbre de Décision\n"
     ]
    }
   ],
   "source": [
    "#Comparaison au niveau des Score d'entrainement (le taux de bonne prédiction calculé sur la base des données de test)\n",
    "if model.score(x_test, y_test) > model_AD.score(x_test, y_test):\n",
    "    print(\"Sur l'entrainement,le resultat de la Régression Logistique est supérieure à celui de l'Arbre de Décision\")\n",
    "else:\n",
    "    print(\"Sur l'entrainement,le resultat de la Régression Logistique est inférieure à celui de l'Arbre de Décision\")"
   ]
  },
  {
   "cell_type": "code",
   "execution_count": 52,
   "id": "803b8dc5",
   "metadata": {},
   "outputs": [
    {
     "name": "stdout",
     "output_type": "stream",
     "text": [
      "L'arbre de Décisin produit un bon résultat par raport à celle de la Régression Log\n"
     ]
    }
   ],
   "source": [
    "if model.score(x_train, y_train) < model_AD.score(x_train, y_train) and model.score(x_test, y_test) < model_AD.score(x_test, y_test):\n",
    "    print(\"L'arbre de Décisin produit un bon résultat par raport à celle de la Régression Log\")"
   ]
  },
  {
   "cell_type": "code",
   "execution_count": null,
   "id": "29a1101b",
   "metadata": {},
   "outputs": [],
   "source": []
  }
 ],
 "metadata": {
  "kernelspec": {
   "display_name": "Python 3",
   "language": "python",
   "name": "python3"
  },
  "language_info": {
   "codemirror_mode": {
    "name": "ipython",
    "version": 3
   },
   "file_extension": ".py",
   "mimetype": "text/x-python",
   "name": "python",
   "nbconvert_exporter": "python",
   "pygments_lexer": "ipython3",
   "version": "3.8.8"
  }
 },
 "nbformat": 4,
 "nbformat_minor": 5
}
