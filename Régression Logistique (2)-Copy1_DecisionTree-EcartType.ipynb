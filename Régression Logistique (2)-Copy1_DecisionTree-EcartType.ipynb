{
 "cells": [
  {
   "cell_type": "code",
   "execution_count": 1,
   "id": "6ff17807",
   "metadata": {},
   "outputs": [],
   "source": [
    "import pandas as pd\n",
    "import numpy as np\n",
    "import os \n",
    "from sklearn.model_selection import train_test_split\n",
    "from sklearn.linear_model import LogisticRegression\n",
    "from sklearn.metrics import confusion_matrix, recall_score, accuracy_score, classification_report, precision_score\n",
    "from sklearn.preprocessing import LabelEncoder\n",
    "from sklearn.tree import DecisionTreeClassifier"
   ]
  },
  {
   "cell_type": "code",
   "execution_count": null,
   "id": "d9c572ed",
   "metadata": {},
   "outputs": [],
   "source": []
  },
  {
   "cell_type": "code",
   "execution_count": 2,
   "id": "a2dd9dd6",
   "metadata": {},
   "outputs": [],
   "source": [
    "#Chargement du DF\n",
    "data = pd.read_excel('Copie de Coeur.xlsx')"
   ]
  },
  {
   "cell_type": "code",
   "execution_count": 3,
   "id": "e4d4f3a3",
   "metadata": {},
   "outputs": [],
   "source": [
    "#Travailler avec une copie du data Frame pour éviter de le rechager en cas d'êrreur\n",
    "df = data.copy()"
   ]
  },
  {
   "cell_type": "code",
   "execution_count": 4,
   "id": "207cd3b3",
   "metadata": {},
   "outputs": [
    {
     "name": "stdout",
     "output_type": "stream",
     "text": [
      "<class 'pandas.core.frame.DataFrame'>\n",
      "RangeIndex: 918 entries, 0 to 917\n",
      "Data columns (total 12 columns):\n",
      " #   Column       Non-Null Count  Dtype  \n",
      "---  ------       --------------  -----  \n",
      " 0   AGE          918 non-null    int64  \n",
      " 1   SEXE         918 non-null    object \n",
      " 2   TDT          918 non-null    object \n",
      " 3   PAR          918 non-null    int64  \n",
      " 4   CHOLESTEROL  918 non-null    int64  \n",
      " 5   GAJ          918 non-null    int64  \n",
      " 6   ECG          918 non-null    object \n",
      " 7   FCMAX        918 non-null    int64  \n",
      " 8   ANGINE       918 non-null    object \n",
      " 9   DEPRESSION   918 non-null    float64\n",
      " 10  PENTE        918 non-null    object \n",
      " 11  CŒUR         918 non-null    int64  \n",
      "dtypes: float64(1), int64(6), object(5)\n",
      "memory usage: 86.2+ KB\n"
     ]
    }
   ],
   "source": [
    "#Afficher les informations relatives au DF\n",
    "df.info()"
   ]
  },
  {
   "cell_type": "code",
   "execution_count": 38,
   "id": "4976a4cf",
   "metadata": {},
   "outputs": [],
   "source": [
    "#Normalisation des variables quantitatives\n",
    "for col in df.drop('CŒUR', axis =1).select_dtypes(np.number).columns:\n",
    "    df[col] = (df[col] - df[col].mean())/ df[col].std()\n"
   ]
  },
  {
   "cell_type": "code",
   "execution_count": 39,
   "id": "f97ed680",
   "metadata": {},
   "outputs": [
    {
     "data": {
      "text/html": [
       "<div>\n",
       "<style scoped>\n",
       "    .dataframe tbody tr th:only-of-type {\n",
       "        vertical-align: middle;\n",
       "    }\n",
       "\n",
       "    .dataframe tbody tr th {\n",
       "        vertical-align: top;\n",
       "    }\n",
       "\n",
       "    .dataframe thead th {\n",
       "        text-align: right;\n",
       "    }\n",
       "</style>\n",
       "<table border=\"1\" class=\"dataframe\">\n",
       "  <thead>\n",
       "    <tr style=\"text-align: right;\">\n",
       "      <th></th>\n",
       "      <th>AGE</th>\n",
       "      <th>SEXE</th>\n",
       "      <th>TDT</th>\n",
       "      <th>PAR</th>\n",
       "      <th>CHOLESTEROL</th>\n",
       "      <th>GAJ</th>\n",
       "      <th>ECG</th>\n",
       "      <th>FCMAX</th>\n",
       "      <th>ANGINE</th>\n",
       "      <th>DEPRESSION</th>\n",
       "      <th>PENTE</th>\n",
       "      <th>CŒUR</th>\n",
       "    </tr>\n",
       "  </thead>\n",
       "  <tbody>\n",
       "    <tr>\n",
       "      <th>0</th>\n",
       "      <td>-1.432359</td>\n",
       "      <td>0.515671</td>\n",
       "      <td>-1.283640</td>\n",
       "      <td>0.410685</td>\n",
       "      <td>0.824621</td>\n",
       "      <td>-0.551041</td>\n",
       "      <td>0.017245</td>\n",
       "      <td>1.382175</td>\n",
       "      <td>-0.823108</td>\n",
       "      <td>-0.831979</td>\n",
       "      <td>-1.111948</td>\n",
       "      <td>0</td>\n",
       "    </tr>\n",
       "    <tr>\n",
       "      <th>1</th>\n",
       "      <td>-0.478223</td>\n",
       "      <td>-1.937107</td>\n",
       "      <td>1.669697</td>\n",
       "      <td>1.490940</td>\n",
       "      <td>-0.171867</td>\n",
       "      <td>-0.551041</td>\n",
       "      <td>0.017245</td>\n",
       "      <td>0.753746</td>\n",
       "      <td>-0.823108</td>\n",
       "      <td>0.105606</td>\n",
       "      <td>0.964895</td>\n",
       "      <td>1</td>\n",
       "    </tr>\n",
       "    <tr>\n",
       "      <th>2</th>\n",
       "      <td>-1.750404</td>\n",
       "      <td>0.515671</td>\n",
       "      <td>-1.283640</td>\n",
       "      <td>-0.129442</td>\n",
       "      <td>0.769768</td>\n",
       "      <td>-0.551041</td>\n",
       "      <td>1.600347</td>\n",
       "      <td>-1.524307</td>\n",
       "      <td>-0.823108</td>\n",
       "      <td>-0.831979</td>\n",
       "      <td>-1.111948</td>\n",
       "      <td>0</td>\n",
       "    </tr>\n",
       "    <tr>\n",
       "      <th>3</th>\n",
       "      <td>-0.584238</td>\n",
       "      <td>-1.937107</td>\n",
       "      <td>-0.299194</td>\n",
       "      <td>0.302660</td>\n",
       "      <td>0.138964</td>\n",
       "      <td>-0.551041</td>\n",
       "      <td>0.017245</td>\n",
       "      <td>-1.131539</td>\n",
       "      <td>1.213585</td>\n",
       "      <td>0.574398</td>\n",
       "      <td>0.964895</td>\n",
       "      <td>1</td>\n",
       "    </tr>\n",
       "    <tr>\n",
       "      <th>4</th>\n",
       "      <td>0.051853</td>\n",
       "      <td>0.515671</td>\n",
       "      <td>1.669697</td>\n",
       "      <td>0.950812</td>\n",
       "      <td>-0.034736</td>\n",
       "      <td>-0.551041</td>\n",
       "      <td>0.017245</td>\n",
       "      <td>-0.581664</td>\n",
       "      <td>-0.823108</td>\n",
       "      <td>-0.831979</td>\n",
       "      <td>-1.111948</td>\n",
       "      <td>0</td>\n",
       "    </tr>\n",
       "  </tbody>\n",
       "</table>\n",
       "</div>"
      ],
      "text/plain": [
       "        AGE      SEXE       TDT       PAR  CHOLESTEROL       GAJ       ECG  \\\n",
       "0 -1.432359  0.515671 -1.283640  0.410685     0.824621 -0.551041  0.017245   \n",
       "1 -0.478223 -1.937107  1.669697  1.490940    -0.171867 -0.551041  0.017245   \n",
       "2 -1.750404  0.515671 -1.283640 -0.129442     0.769768 -0.551041  1.600347   \n",
       "3 -0.584238 -1.937107 -0.299194  0.302660     0.138964 -0.551041  0.017245   \n",
       "4  0.051853  0.515671  1.669697  0.950812    -0.034736 -0.551041  0.017245   \n",
       "\n",
       "      FCMAX    ANGINE  DEPRESSION      PENTE  CŒUR  \n",
       "0  1.382175 -0.823108    -0.831979 -1.111948     0  \n",
       "1  0.753746 -0.823108     0.105606  0.964895     1  \n",
       "2 -1.524307 -0.823108    -0.831979 -1.111948     0  \n",
       "3 -1.131539  1.213585     0.574398  0.964895     1  \n",
       "4 -0.581664 -0.823108    -0.831979 -1.111948     0  "
      ]
     },
     "execution_count": 39,
     "metadata": {},
     "output_type": "execute_result"
    }
   ],
   "source": [
    "#Vérification des résultats\n",
    "df.head()"
   ]
  },
  {
   "cell_type": "code",
   "execution_count": 40,
   "id": "e4e42ce5",
   "metadata": {},
   "outputs": [],
   "source": [
    "#Encodage des variables qualitatives\n",
    "for col in df.select_dtypes('object').columns:\n",
    "    df[col] = df[col].astype('category').cat.codes"
   ]
  },
  {
   "cell_type": "code",
   "execution_count": 41,
   "id": "85a85a02",
   "metadata": {},
   "outputs": [
    {
     "data": {
      "text/html": [
       "<div>\n",
       "<style scoped>\n",
       "    .dataframe tbody tr th:only-of-type {\n",
       "        vertical-align: middle;\n",
       "    }\n",
       "\n",
       "    .dataframe tbody tr th {\n",
       "        vertical-align: top;\n",
       "    }\n",
       "\n",
       "    .dataframe thead th {\n",
       "        text-align: right;\n",
       "    }\n",
       "</style>\n",
       "<table border=\"1\" class=\"dataframe\">\n",
       "  <thead>\n",
       "    <tr style=\"text-align: right;\">\n",
       "      <th></th>\n",
       "      <th>AGE</th>\n",
       "      <th>SEXE</th>\n",
       "      <th>TDT</th>\n",
       "      <th>PAR</th>\n",
       "      <th>CHOLESTEROL</th>\n",
       "      <th>GAJ</th>\n",
       "      <th>ECG</th>\n",
       "      <th>FCMAX</th>\n",
       "      <th>ANGINE</th>\n",
       "      <th>DEPRESSION</th>\n",
       "      <th>PENTE</th>\n",
       "      <th>CŒUR</th>\n",
       "    </tr>\n",
       "  </thead>\n",
       "  <tbody>\n",
       "    <tr>\n",
       "      <th>0</th>\n",
       "      <td>-1.432359</td>\n",
       "      <td>0.515671</td>\n",
       "      <td>-1.283640</td>\n",
       "      <td>0.410685</td>\n",
       "      <td>0.824621</td>\n",
       "      <td>-0.551041</td>\n",
       "      <td>0.017245</td>\n",
       "      <td>1.382175</td>\n",
       "      <td>-0.823108</td>\n",
       "      <td>-0.831979</td>\n",
       "      <td>-1.111948</td>\n",
       "      <td>0</td>\n",
       "    </tr>\n",
       "    <tr>\n",
       "      <th>1</th>\n",
       "      <td>-0.478223</td>\n",
       "      <td>-1.937107</td>\n",
       "      <td>1.669697</td>\n",
       "      <td>1.490940</td>\n",
       "      <td>-0.171867</td>\n",
       "      <td>-0.551041</td>\n",
       "      <td>0.017245</td>\n",
       "      <td>0.753746</td>\n",
       "      <td>-0.823108</td>\n",
       "      <td>0.105606</td>\n",
       "      <td>0.964895</td>\n",
       "      <td>1</td>\n",
       "    </tr>\n",
       "    <tr>\n",
       "      <th>2</th>\n",
       "      <td>-1.750404</td>\n",
       "      <td>0.515671</td>\n",
       "      <td>-1.283640</td>\n",
       "      <td>-0.129442</td>\n",
       "      <td>0.769768</td>\n",
       "      <td>-0.551041</td>\n",
       "      <td>1.600347</td>\n",
       "      <td>-1.524307</td>\n",
       "      <td>-0.823108</td>\n",
       "      <td>-0.831979</td>\n",
       "      <td>-1.111948</td>\n",
       "      <td>0</td>\n",
       "    </tr>\n",
       "    <tr>\n",
       "      <th>3</th>\n",
       "      <td>-0.584238</td>\n",
       "      <td>-1.937107</td>\n",
       "      <td>-0.299194</td>\n",
       "      <td>0.302660</td>\n",
       "      <td>0.138964</td>\n",
       "      <td>-0.551041</td>\n",
       "      <td>0.017245</td>\n",
       "      <td>-1.131539</td>\n",
       "      <td>1.213585</td>\n",
       "      <td>0.574398</td>\n",
       "      <td>0.964895</td>\n",
       "      <td>1</td>\n",
       "    </tr>\n",
       "    <tr>\n",
       "      <th>4</th>\n",
       "      <td>0.051853</td>\n",
       "      <td>0.515671</td>\n",
       "      <td>1.669697</td>\n",
       "      <td>0.950812</td>\n",
       "      <td>-0.034736</td>\n",
       "      <td>-0.551041</td>\n",
       "      <td>0.017245</td>\n",
       "      <td>-0.581664</td>\n",
       "      <td>-0.823108</td>\n",
       "      <td>-0.831979</td>\n",
       "      <td>-1.111948</td>\n",
       "      <td>0</td>\n",
       "    </tr>\n",
       "  </tbody>\n",
       "</table>\n",
       "</div>"
      ],
      "text/plain": [
       "        AGE      SEXE       TDT       PAR  CHOLESTEROL       GAJ       ECG  \\\n",
       "0 -1.432359  0.515671 -1.283640  0.410685     0.824621 -0.551041  0.017245   \n",
       "1 -0.478223 -1.937107  1.669697  1.490940    -0.171867 -0.551041  0.017245   \n",
       "2 -1.750404  0.515671 -1.283640 -0.129442     0.769768 -0.551041  1.600347   \n",
       "3 -0.584238 -1.937107 -0.299194  0.302660     0.138964 -0.551041  0.017245   \n",
       "4  0.051853  0.515671  1.669697  0.950812    -0.034736 -0.551041  0.017245   \n",
       "\n",
       "      FCMAX    ANGINE  DEPRESSION      PENTE  CŒUR  \n",
       "0  1.382175 -0.823108    -0.831979 -1.111948     0  \n",
       "1  0.753746 -0.823108     0.105606  0.964895     1  \n",
       "2 -1.524307 -0.823108    -0.831979 -1.111948     0  \n",
       "3 -1.131539  1.213585     0.574398  0.964895     1  \n",
       "4 -0.581664 -0.823108    -0.831979 -1.111948     0  "
      ]
     },
     "execution_count": 41,
     "metadata": {},
     "output_type": "execute_result"
    }
   ],
   "source": [
    "#Vérification des résultats\n",
    "df.head()"
   ]
  },
  {
   "cell_type": "code",
   "execution_count": 42,
   "id": "acd4ee77",
   "metadata": {},
   "outputs": [],
   "source": [
    "#Séparer la variable cible (coeur) et les variables explicatives\n",
    "y = df['CŒUR']\n",
    "x = df.drop('CŒUR', axis = 1)"
   ]
  },
  {
   "cell_type": "code",
   "execution_count": 43,
   "id": "d38c03fb",
   "metadata": {},
   "outputs": [],
   "source": [
    "#Subdivision du jeu de données en apprentissage et en test\n",
    "x_train, x_test, y_train, y_test = train_test_split(x,y,test_size =0.2, random_state =1)\n",
    "#train_set, test_set = train_test_split(df,test_size =0.2, random_state =1)"
   ]
  },
  {
   "cell_type": "code",
   "execution_count": 44,
   "id": "a61a2912",
   "metadata": {},
   "outputs": [
    {
     "name": "stdout",
     "output_type": "stream",
     "text": [
      "(734, 11) (184, 11) (734,) (184,)\n"
     ]
    }
   ],
   "source": [
    "#Vérifier le résultat\n",
    "print(x_train.shape, x_test.shape, y_train.shape, y_test.shape)"
   ]
  },
  {
   "cell_type": "code",
   "execution_count": 45,
   "id": "38ab6c74",
   "metadata": {},
   "outputs": [],
   "source": [
    "#Création d'un objet lr de la classe LogisticRegression\n",
    "lr = LogisticRegression(solver ='newton-cg', random_state =1)"
   ]
  },
  {
   "cell_type": "code",
   "execution_count": 71,
   "id": "5ad5e50a",
   "metadata": {},
   "outputs": [],
   "source": [
    "#Apprentissage du modèle\n",
    "model_lr = lr.fit(x_train, y_train)\n",
    "#model = lr.fit(train_set.drop('CŒUR', axis = 1), train_set['CŒUR'])"
   ]
  },
  {
   "cell_type": "code",
   "execution_count": 72,
   "id": "c7c219c6",
   "metadata": {},
   "outputs": [],
   "source": [
    "#Probabilité d'appartenance à l'une des classes\n",
    "predict_proba_lr = model.predict_proba(x_test)\n"
   ]
  },
  {
   "cell_type": "code",
   "execution_count": 73,
   "id": "0e4f9aca",
   "metadata": {},
   "outputs": [
    {
     "data": {
      "text/plain": [
       "array([1, 1, 1, 1, 1], dtype=int64)"
      ]
     },
     "execution_count": 73,
     "metadata": {},
     "output_type": "execute_result"
    }
   ],
   "source": [
    "#Application du modèle au données de test\n",
    "y_pred_lr = model.predict(x_test)\n",
    "y_pred_lr[:5]"
   ]
  },
  {
   "cell_type": "code",
   "execution_count": 74,
   "id": "a849be08",
   "metadata": {},
   "outputs": [
    {
     "data": {
      "text/plain": [
       "array([[ 66,   8],\n",
       "       [  8, 102]], dtype=int64)"
      ]
     },
     "execution_count": 74,
     "metadata": {},
     "output_type": "execute_result"
    }
   ],
   "source": [
    "#matrice de confusion\n",
    "mc_lr = confusion_matrix(y_test,y_pred_lr)\n",
    "mc_lr"
   ]
  },
  {
   "cell_type": "code",
   "execution_count": 75,
   "id": "5f2a721e",
   "metadata": {},
   "outputs": [
    {
     "data": {
      "text/plain": [
       "0.9130434782608695"
      ]
     },
     "execution_count": 75,
     "metadata": {},
     "output_type": "execute_result"
    }
   ],
   "source": [
    "#Taux de bonnes prédictions\n",
    "accuracy_lr = accuracy_score(y_test, y_pred_lr)\n",
    "accuracy_lr\n",
    "#Conclusion : le modèle produit 92 % de bonne prédiction."
   ]
  },
  {
   "cell_type": "code",
   "execution_count": 76,
   "id": "39678925",
   "metadata": {},
   "outputs": [
    {
     "data": {
      "text/plain": [
       "0.9272727272727272"
      ]
     },
     "execution_count": 76,
     "metadata": {},
     "output_type": "execute_result"
    }
   ],
   "source": [
    "#Sensibilité\n",
    "recall_lr = recall_score(y_test, y_pred_lr)\n",
    "recall_lr\n",
    "#conclusion : lorsqu'un individu est malade, nous avons 94 % de chance que le modèle le prédise."
   ]
  },
  {
   "cell_type": "code",
   "execution_count": 77,
   "id": "62060487",
   "metadata": {},
   "outputs": [
    {
     "data": {
      "text/plain": [
       "0.9272727272727272"
      ]
     },
     "execution_count": 77,
     "metadata": {},
     "output_type": "execute_result"
    }
   ],
   "source": [
    "#Précision\n",
    "precision_lr = precision_score(y_test, y_pred_lr)\n",
    "precision_lr\n",
    "#Conclusion : lorsque le modèle prédit qu'un individu est malade, nous avons 92 % de chace que cela soit vraie."
   ]
  },
  {
   "cell_type": "code",
   "execution_count": 78,
   "id": "e0630294",
   "metadata": {},
   "outputs": [],
   "source": [
    "#plus de détails avec classification report\n",
    "cr = classification_report(y_test, y_pred_lr)"
   ]
  },
  {
   "cell_type": "code",
   "execution_count": 79,
   "id": "4803ba1d",
   "metadata": {},
   "outputs": [
    {
     "data": {
      "text/plain": [
       "1    0.553377\n",
       "0    0.446623\n",
       "Name: CŒUR, dtype: float64"
      ]
     },
     "execution_count": 79,
     "metadata": {},
     "output_type": "execute_result"
    }
   ],
   "source": [
    "#Modèle Trival\n",
    "df['CŒUR'].value_counts()/df.shape[0]\n",
    "#Conclusion : si nous nous basons sur le hasard pour faire nos prédiction, nous aurons 55.37 % de bonne prédiction."
   ]
  },
  {
   "cell_type": "code",
   "execution_count": 80,
   "id": "76511cb7",
   "metadata": {},
   "outputs": [
    {
     "data": {
      "text/plain": [
       "0.8474114441416893"
      ]
     },
     "execution_count": 80,
     "metadata": {},
     "output_type": "execute_result"
    }
   ],
   "source": [
    "#Score d'entrainement (le taux de bonne prédiction calculé sur la base des données d'entrainement)\n",
    "model.score(x_train, y_train)"
   ]
  },
  {
   "cell_type": "code",
   "execution_count": 81,
   "id": "272d4686",
   "metadata": {},
   "outputs": [
    {
     "data": {
      "text/plain": [
       "0.9130434782608695"
      ]
     },
     "execution_count": 81,
     "metadata": {},
     "output_type": "execute_result"
    }
   ],
   "source": [
    "#Score d'entrainement (le taux de bonne prédiction calculé sur la base des données de test)\n",
    "model.score(x_test, y_test)"
   ]
  },
  {
   "cell_type": "code",
   "execution_count": null,
   "id": "90b21ee0",
   "metadata": {},
   "outputs": [],
   "source": []
  },
  {
   "cell_type": "code",
   "execution_count": null,
   "id": "8ba3f7ce",
   "metadata": {},
   "outputs": [],
   "source": []
  },
  {
   "cell_type": "code",
   "execution_count": null,
   "id": "6dab32f1",
   "metadata": {},
   "outputs": [],
   "source": []
  },
  {
   "cell_type": "markdown",
   "id": "e7898c64",
   "metadata": {},
   "source": [
    "# DecisionTree"
   ]
  },
  {
   "cell_type": "code",
   "execution_count": 82,
   "id": "a690e8e7",
   "metadata": {},
   "outputs": [],
   "source": [
    "#Création d'un objet model de la classe DecisionTreeClassifier\n",
    "model_AD=DecisionTreeClassifier(criterion='gini')\n",
    "#Gini est une formule mathematique de la fonction CART"
   ]
  },
  {
   "cell_type": "code",
   "execution_count": 83,
   "id": "fcfb8901",
   "metadata": {},
   "outputs": [
    {
     "data": {
      "text/plain": [
       "DecisionTreeClassifier()"
      ]
     },
     "execution_count": 83,
     "metadata": {},
     "output_type": "execute_result"
    }
   ],
   "source": [
    "#Apprentissage du modèle\n",
    "model_AD.fit(x_train,y_train)"
   ]
  },
  {
   "cell_type": "code",
   "execution_count": 84,
   "id": "bfd1bf28",
   "metadata": {},
   "outputs": [],
   "source": [
    "#Subdivision du jeu de données en apprentissage et en test\n",
    "x_train, x_test, y_train, y_test = train_test_split(x,y,test_size =0.2, random_state =1)\n",
    "#train_set, test_set = train_test_split(df,test_size =0.2, random_state =1)"
   ]
  },
  {
   "cell_type": "code",
   "execution_count": 85,
   "id": "c0ba367a",
   "metadata": {},
   "outputs": [
    {
     "name": "stdout",
     "output_type": "stream",
     "text": [
      "(734, 11) (184, 11) (734,) (184,)\n"
     ]
    }
   ],
   "source": [
    "#Vérifier le résultat\n",
    "print(x_train.shape, x_test.shape, y_train.shape, y_test.shape)"
   ]
  },
  {
   "cell_type": "code",
   "execution_count": 86,
   "id": "1360c97c",
   "metadata": {},
   "outputs": [],
   "source": [
    "#Probabilité d'appartenance à l'une des classes\n",
    "predict_proba_AD = model_AD.predict_proba(x_test)\n"
   ]
  },
  {
   "cell_type": "code",
   "execution_count": 87,
   "id": "a25253d9",
   "metadata": {},
   "outputs": [],
   "source": [
    "#Application du modèle au données de test\n",
    "y_pred_AD = model_AD.predict(x_test)\n"
   ]
  },
  {
   "cell_type": "code",
   "execution_count": 88,
   "id": "166e195f",
   "metadata": {},
   "outputs": [],
   "source": [
    "#matrice de confusion\n",
    "mc_AD = confusion_matrix(y_test, y_pred_AD)\n"
   ]
  },
  {
   "cell_type": "code",
   "execution_count": 89,
   "id": "f6305404",
   "metadata": {},
   "outputs": [
    {
     "data": {
      "text/plain": [
       "0.7771739130434783"
      ]
     },
     "execution_count": 89,
     "metadata": {},
     "output_type": "execute_result"
    }
   ],
   "source": [
    "#Taux de bonnes prédictions\n",
    "accuracy_AD = accuracy_score(y_test, y_pred_AD)\n",
    "accuracy_AD\n",
    "#Conclusion : le modèle produit77 % de bonne prédiction."
   ]
  },
  {
   "cell_type": "code",
   "execution_count": 90,
   "id": "3cf14934",
   "metadata": {},
   "outputs": [
    {
     "data": {
      "text/plain": [
       "0.7181818181818181"
      ]
     },
     "execution_count": 90,
     "metadata": {},
     "output_type": "execute_result"
    }
   ],
   "source": [
    "#Sensibilité\n",
    "recall_AD = recall_score(y_test, y_pred_AD)\n",
    "recall_AD\n",
    "#conclusion : lorsqu'un individu est malade, nous avons 73 % de chance que le modèle le prédise."
   ]
  },
  {
   "cell_type": "code",
   "execution_count": 91,
   "id": "ef208df6",
   "metadata": {},
   "outputs": [
    {
     "data": {
      "text/plain": [
       "0.8876404494382022"
      ]
     },
     "execution_count": 91,
     "metadata": {},
     "output_type": "execute_result"
    }
   ],
   "source": [
    "#Précision\n",
    "precision_AD = precision_score(y_test, y_pred_AD)\n",
    "precision_AD\n",
    "#Conclusion : lorsque le modèle prédit qu'un individu est malade, nous avons 87,9 % de chace que cela soit vraie."
   ]
  },
  {
   "cell_type": "code",
   "execution_count": 92,
   "id": "b406c0e3",
   "metadata": {},
   "outputs": [
    {
     "data": {
      "text/plain": [
       "0.7771739130434783"
      ]
     },
     "execution_count": 92,
     "metadata": {},
     "output_type": "execute_result"
    }
   ],
   "source": [
    "#Score d'entrainement (le taux de bonne prédiction calculé sur la base des données de test)\n",
    "model_AD.score(x_test, y_test)"
   ]
  },
  {
   "cell_type": "code",
   "execution_count": 93,
   "id": "037e6298",
   "metadata": {},
   "outputs": [
    {
     "data": {
      "text/plain": [
       "1.0"
      ]
     },
     "execution_count": 93,
     "metadata": {},
     "output_type": "execute_result"
    }
   ],
   "source": [
    "#Score d'entrainement (le taux de bonne prédiction calculé sur la base des données d'entrainement)\n",
    "model_AD.score(x_train, y_train)"
   ]
  },
  {
   "cell_type": "code",
   "execution_count": null,
   "id": "157125ab",
   "metadata": {},
   "outputs": [],
   "source": []
  },
  {
   "cell_type": "code",
   "execution_count": null,
   "id": "e32df573",
   "metadata": {},
   "outputs": [],
   "source": []
  },
  {
   "cell_type": "markdown",
   "id": "9db6ec8b",
   "metadata": {},
   "source": [
    "# Comparaison des scores entre la Régression Linéaire et L'Arbre de Décision"
   ]
  },
  {
   "cell_type": "code",
   "execution_count": 94,
   "id": "c6550002",
   "metadata": {},
   "outputs": [],
   "source": [
    "#visualisation de la performance des deux models"
   ]
  },
  {
   "cell_type": "code",
   "execution_count": 95,
   "id": "dd156d9b",
   "metadata": {},
   "outputs": [
    {
     "name": "stdout",
     "output_type": "stream",
     "text": [
      "Ceci est le score de la REgression sur les données Tests \n",
      " 0.9130434782608695\n",
      "Ceci est le score de l'Arbre de Décision sur les données Tests \n",
      " 0.7771739130434783\n"
     ]
    }
   ],
   "source": [
    "#1.regressionlogistic\n",
    "print(\"Ceci est le score de la REgression sur les données Tests \\n\",model_lr.score(x_test,y_test))\n",
    "\n",
    "#1.DecisionTree\n",
    "print(\"Ceci est le score de l'Arbre de Décision sur les données Tests \\n\",model_AD.score(x_test,y_test))"
   ]
  },
  {
   "cell_type": "code",
   "execution_count": 96,
   "id": "0d4d9c7b",
   "metadata": {},
   "outputs": [
    {
     "name": "stdout",
     "output_type": "stream",
     "text": [
      "matrice de confusion de decisionTree : \n",
      "  [[ 66   8]\n",
      " [  8 102]]\n",
      "matrice de confusion de decisionTree : \n",
      "  [[64 10]\n",
      " [31 79]]\n"
     ]
    }
   ],
   "source": [
    "#matrice de confusion de decisionTree\n",
    "print(\"matrice de confusion de decisionTree : \\n \",mc_lr)\n",
    "\n",
    "#matrice de confusion de decisionTree\n",
    "print(\"matrice de confusion de decisionTree : \\n \",mc_AD)"
   ]
  },
  {
   "cell_type": "code",
   "execution_count": 97,
   "id": "21754191",
   "metadata": {},
   "outputs": [],
   "source": [
    "#Comparaison des sensibilités\n",
    "   "
   ]
  },
  {
   "cell_type": "code",
   "execution_count": 98,
   "id": "9e0a06b4",
   "metadata": {},
   "outputs": [
    {
     "name": "stdout",
     "output_type": "stream",
     "text": [
      "Sensibité régression logistique : \n",
      "  0.9272727272727272\n",
      "Sensibilité arbre de décision : \n",
      "  0.7181818181818181\n"
     ]
    }
   ],
   "source": [
    " # Sensibité régression logistique\n",
    "print(\"Sensibité régression logistique : \\n \",recall_lr)\n",
    "\n",
    "    # Sensibilité arbre de décision\n",
    "print(\"Sensibilité arbre de décision : \\n \",recall_AD)"
   ]
  },
  {
   "cell_type": "code",
   "execution_count": 99,
   "id": "d93e8d6e",
   "metadata": {},
   "outputs": [],
   "source": [
    "#Précision\n"
   ]
  },
  {
   "cell_type": "code",
   "execution_count": 100,
   "id": "e823409e",
   "metadata": {},
   "outputs": [
    {
     "name": "stdout",
     "output_type": "stream",
     "text": [
      "Précision régression logistique : \n",
      " 0.9272727272727272\n",
      "Précision arbre de décision : \n",
      " 0.8876404494382022\n"
     ]
    }
   ],
   "source": [
    "# Précision régression logistique\n",
    "print(\"Précision régression logistique : \\n\",precision_lr)\n",
    "\n",
    "# Précision arbre de décision\n",
    "print(\"Précision arbre de décision : \\n\",precision_AD)"
   ]
  },
  {
   "cell_type": "code",
   "execution_count": 101,
   "id": "cfd2a3fa",
   "metadata": {},
   "outputs": [
    {
     "name": "stdout",
     "output_type": "stream",
     "text": [
      "Sur l'entrainement, le resultat de la Régression Logistique est inférieure à celui de l'Arbre de Décision\n"
     ]
    }
   ],
   "source": [
    "#Comparaison au niveau des  Score d'entrainement (le taux de bonne prédiction calculé sur la base des données d'entrainement)\n",
    "if model.score(x_train, y_train) > model_AD.score(x_train, y_train):\n",
    "    print(\"Sur l'entrainement, le resultat de la Régression Logistique est supérieure à celui de l'Arbre de Décision\")\n",
    "else:\n",
    "    print(\"Sur l'entrainement, le resultat de la Régression Logistique est inférieure à celui de l'Arbre de Décision\")"
   ]
  },
  {
   "cell_type": "code",
   "execution_count": 102,
   "id": "06757cd6",
   "metadata": {},
   "outputs": [
    {
     "name": "stdout",
     "output_type": "stream",
     "text": [
      "Sur l'entrainement,le resultat de la Régression Logistique est supérieure à celui de l'Arbre de Décision\n"
     ]
    }
   ],
   "source": [
    "#Comparaison au niveau des Score d'entrainement (le taux de bonne prédiction calculé sur la base des données de test)\n",
    "if model.score(x_test, y_test) > model_AD.score(x_test, y_test):\n",
    "    print(\"Sur l'entrainement,le resultat de la Régression Logistique est supérieure à celui de l'Arbre de Décision\")\n",
    "else:\n",
    "    print(\"Sur l'entrainement,le resultat de la Régression Logistique est inférieure à celui de l'Arbre de Décision\")"
   ]
  },
  {
   "cell_type": "code",
   "execution_count": null,
   "id": "803b8dc5",
   "metadata": {},
   "outputs": [],
   "source": []
  },
  {
   "cell_type": "code",
   "execution_count": null,
   "id": "ed401607",
   "metadata": {},
   "outputs": [],
   "source": []
  }
 ],
 "metadata": {
  "kernelspec": {
   "display_name": "Python 3",
   "language": "python",
   "name": "python3"
  },
  "language_info": {
   "codemirror_mode": {
    "name": "ipython",
    "version": 3
   },
   "file_extension": ".py",
   "mimetype": "text/x-python",
   "name": "python",
   "nbconvert_exporter": "python",
   "pygments_lexer": "ipython3",
   "version": "3.8.8"
  }
 },
 "nbformat": 4,
 "nbformat_minor": 5
}
